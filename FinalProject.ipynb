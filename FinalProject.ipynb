{
 "cells": [
  {
   "cell_type": "markdown",
   "metadata": {},
   "source": [
    "<h1> COGS 108- Final Project </h1>\n",
    "<h2> Predicting adoption rates </h2>"
   ]
  },
  {
   "cell_type": "markdown",
   "metadata": {},
   "source": [
    "<h1> Overview </h1>"
   ]
  },
  {
   "cell_type": "markdown",
   "metadata": {},
   "source": [
    "   <h2> Names: </h2>     \n",
    "  \n",
    "Lulu Ricketts\n",
    "\n",
    "George Pu\n",
    "\n",
    "Lisiman Hua\n",
    "\n",
    "Erica Iniguiz\n",
    "\n",
    "Cameron Thomas\n",
    "\n",
    "Samuel Reda"
   ]
  },
  {
   "cell_type": "markdown",
   "metadata": {},
   "source": [
    "<h2> Group Member IDs </h2>\n",
    "\n",
    "A15380637 (Lulu)\n",
    "\n",
    "A15405062 (George)\n",
    "\n",
    "A14055217 (Lisiman)\n",
    "\n",
    "A15054445 (Erica)\n",
    "\n",
    "A13978010 (Cameron)\n",
    "\n",
    "A15727501 (Samuel)"
   ]
  },
  {
   "cell_type": "markdown",
   "metadata": {},
   "source": [
    "<h2> Research Question </h2>\n",
    "\n",
    "Are there underlying trends between certain attributes that may entice a person to adopt a specific dog/cat over another?"
   ]
  },
  {
   "cell_type": "markdown",
   "metadata": {},
   "source": [
    "<h2> Background and Prior work </h2>\n",
    "\n",
    "\n",
    "From experience, there are certainly animal attributes that stick out when either adopting or seeing a dog in public. We feel as if there are certain traits that push an owner to adopt one dog over another. We want to find data-backed solutions for this commonly asked question which can explain what attributes entice owners (and our findings can even be commonly applied/linked to what attributes make a person stare at an animal longer when being seen).\n",
    "\n",
    "Prior to starting this project, we all have a relative understanding of animal attributes that are more appealing/eye-catching than other traits. Some of us own animals and were faced with a similar challenge when choosing an animal based off impressions, attributes and fit to bring home and adopt. We are well aware that there tends to be several biases when choosing a dog due to personal preference but there may also be additional factors in which we will explore. For example, there is a stigma against pitbulls due to the stereotype that they are aggressive dogs. Through the data sets we will be able to see if this holds true within the Austin Animal Shelter. The data is taken from the Austin Animal Shelter intakes/outcomes of adoption. There are 3 main datasets: all_records, the intakes, and outcomes of the shelter. We can use the dog’s age, fixed status, breed (might be more difficult since there’s so many mixes), length of stay and mapped onto the outcome type. Outcome types are limited to adoption, euthanasia, transfer, or return to owner. Through this we will be able to analyze any trends within any breed.\n",
    "\n",
    "A similar project (https://www.statesman.com/news/20160903/crowded-austin-animal-shelter-has-turned-away-some-healthy-dogs-cats) has been done and can be found online. A group of UTAustin students did a project on the same set of data and found some correlations between certain attributes. They find out that in comparison to cats, dogs are more likely to be adopted. Different traits of dogs and cats do affect the adoption rate. We hope to further this analysis in terms of analyzing adoption outcomes and will take several approaches to assess these trends. With the analytic outcomes, we are expecting to give helpful suggestions to Austin Animal Shelter to run the program more efficiently, since local news is reporting that the shelter is turning away healthy dogs and cats due to its limited capacity."
   ]
  },
  {
   "cell_type": "markdown",
   "metadata": {},
   "source": [
    "<h2> Hypothesis </h2>\n",
    "\n",
    "We predict that dogs and cats that are one year old, light-colored, and with names will have shorter shelter stay times or more likely to be adopted in Austin, Texas.\n",
    "\n",
    "\n",
    "Explanation:\n",
    "\n",
    "We think this because younger dogs tend to be more appealing. People are less likely to adopt an older pet in fear that their time spent together will be limited because the lifespan of dogs are relatively short compared to humans. Because black dogs do not photograph well, lighter-colored dogs have an advantage with potential adopters browsing adoption websites. When it is difficult to see the expression on a black dog’s face, a potential adopter has trouble determining the animal’s personality. In addition, the color black has negative connotations. For example, black cats are associated with bad luck. In many cultures, a black dog’s appearance is regarded as a portent of death or evil and can come in the form of a shapeshifter, ghost, hellhound, or the Devil. Why black and male? Black dogs are less likely to be adopted (https://www.gopetplan.com/blogpost/black-dog-syndrome). Lastly, dogs and cats that have names will be able to create a friendlier and more personal emotional attraction to the future owner."
   ]
  },
  {
   "cell_type": "markdown",
   "metadata": {},
   "source": [
    "<h2> Datasets </h2>\n",
    "\n",
    "\n",
    "* **Dataset Name:** Austin Animal Shelter Intakes and Outcomes\n",
    "* **Link to the dataset:** <a href= https://www.kaggle.com/aaronschlegel/austin-animal-center-shelter-intakes-and-outcomes/version/1#> Kaggle link </a>\n",
    "\n",
    "\n",
    "1. aac_intakes_outcomes.csv\n",
    "\n",
    "This dataset is a combination of the aac_intakes.csv and aac_outtakes.csv. At first, we tried using those two and merging them, but information was lost and inaccurate when we merged those datasets on \"Animal ID\" because several animals have been in and out of the shelter multiple times with the same animal ID. We decided to use this one because it had more numerical data to work with and was more accurate\n",
    "\n",
    "* Number of observations: 71,961 rows\n",
    "* Information included: basic information of each animal (specific ID given, age, breed, sex, color) and information about the intake time, outcome time and time spent in shelter\n",
    "\n",
    "\n",
    "1. aac_outcomes.csv\n",
    "This dataset contains only outcomes but has the additional information about the name attribute that we want to explore.\n",
    "\n",
    "\n",
    "* Number of observations: 110,753 rows\n",
    "* Features included: basic information of each animal (specific ID given, age, breed, sex, color) and information about the outcome time"
   ]
  },
  {
   "cell_type": "markdown",
   "metadata": {},
   "source": [
    "<h1> Exploratory Data Analysis </h1>"
   ]
  },
  {
   "cell_type": "markdown",
   "metadata": {},
   "source": [
    "<h4> First, We will import the necessary packages to run Exploratory Data Analysis </h4>"
   ]
  },
  {
   "cell_type": "code",
   "execution_count": 3,
   "metadata": {},
   "outputs": [],
   "source": [
    "import pandas as pd\n",
    "import numpy as np\n",
    "import seaborn as sns\n",
    "import matplotlib.pyplot as plt\n",
    "%matplotlib inline"
   ]
  },
  {
   "cell_type": "markdown",
   "metadata": {},
   "source": [
    "<h4> Then we will read the CSV file, and clean the dataset as needed\n",
    "   "
   ]
  },
  {
   "cell_type": "code",
   "execution_count": 25,
   "metadata": {},
   "outputs": [
    {
     "data": {
      "text/html": [
       "<div>\n",
       "<style scoped>\n",
       "    .dataframe tbody tr th:only-of-type {\n",
       "        vertical-align: middle;\n",
       "    }\n",
       "\n",
       "    .dataframe tbody tr th {\n",
       "        vertical-align: top;\n",
       "    }\n",
       "\n",
       "    .dataframe thead th {\n",
       "        text-align: right;\n",
       "    }\n",
       "</style>\n",
       "<table border=\"1\" class=\"dataframe\">\n",
       "  <thead>\n",
       "    <tr style=\"text-align: right;\">\n",
       "      <th></th>\n",
       "      <th>age_upon_outcome</th>\n",
       "      <th>date_of_birth</th>\n",
       "      <th>outcome_subtype</th>\n",
       "      <th>outcome_type</th>\n",
       "      <th>sex_upon_outcome</th>\n",
       "      <th>age_upon_outcome_(days)</th>\n",
       "      <th>age_upon_outcome_(years)</th>\n",
       "      <th>age_upon_outcome_age_group</th>\n",
       "      <th>outcome_datetime</th>\n",
       "      <th>outcome_month</th>\n",
       "      <th>...</th>\n",
       "      <th>age_upon_intake_age_group</th>\n",
       "      <th>intake_datetime</th>\n",
       "      <th>intake_month</th>\n",
       "      <th>intake_year</th>\n",
       "      <th>intake_monthyear</th>\n",
       "      <th>intake_weekday</th>\n",
       "      <th>intake_hour</th>\n",
       "      <th>intake_number</th>\n",
       "      <th>time_in_shelter</th>\n",
       "      <th>time_in_shelter_days</th>\n",
       "    </tr>\n",
       "    <tr>\n",
       "      <th>Animal ID</th>\n",
       "      <th></th>\n",
       "      <th></th>\n",
       "      <th></th>\n",
       "      <th></th>\n",
       "      <th></th>\n",
       "      <th></th>\n",
       "      <th></th>\n",
       "      <th></th>\n",
       "      <th></th>\n",
       "      <th></th>\n",
       "      <th></th>\n",
       "      <th></th>\n",
       "      <th></th>\n",
       "      <th></th>\n",
       "      <th></th>\n",
       "      <th></th>\n",
       "      <th></th>\n",
       "      <th></th>\n",
       "      <th></th>\n",
       "      <th></th>\n",
       "      <th></th>\n",
       "    </tr>\n",
       "  </thead>\n",
       "  <tbody>\n",
       "    <tr>\n",
       "      <th>A006100</th>\n",
       "      <td>10 years</td>\n",
       "      <td>2007-07-09 00:00:00</td>\n",
       "      <td>NaN</td>\n",
       "      <td>Return to Owner</td>\n",
       "      <td>Neutered Male</td>\n",
       "      <td>3650</td>\n",
       "      <td>10.0</td>\n",
       "      <td>(7.5, 10.0]</td>\n",
       "      <td>2017-12-07 14:07:00</td>\n",
       "      <td>12</td>\n",
       "      <td>...</td>\n",
       "      <td>(7.5, 10.0]</td>\n",
       "      <td>2017-12-07 00:00:00</td>\n",
       "      <td>12</td>\n",
       "      <td>2017</td>\n",
       "      <td>2017-12</td>\n",
       "      <td>Thursday</td>\n",
       "      <td>14</td>\n",
       "      <td>1.0</td>\n",
       "      <td>0 days 14:07:00.000000000</td>\n",
       "      <td>0.588194</td>\n",
       "    </tr>\n",
       "    <tr>\n",
       "      <th>A006100</th>\n",
       "      <td>7 years</td>\n",
       "      <td>2007-07-09 00:00:00</td>\n",
       "      <td>NaN</td>\n",
       "      <td>Return to Owner</td>\n",
       "      <td>Neutered Male</td>\n",
       "      <td>2555</td>\n",
       "      <td>7.0</td>\n",
       "      <td>(5.0, 7.5]</td>\n",
       "      <td>2014-12-20 16:35:00</td>\n",
       "      <td>12</td>\n",
       "      <td>...</td>\n",
       "      <td>(5.0, 7.5]</td>\n",
       "      <td>2014-12-19 10:21:00</td>\n",
       "      <td>12</td>\n",
       "      <td>2014</td>\n",
       "      <td>2014-12</td>\n",
       "      <td>Friday</td>\n",
       "      <td>10</td>\n",
       "      <td>2.0</td>\n",
       "      <td>1 days 06:14:00.000000000</td>\n",
       "      <td>1.259722</td>\n",
       "    </tr>\n",
       "    <tr>\n",
       "      <th>A006100</th>\n",
       "      <td>6 years</td>\n",
       "      <td>2007-07-09 00:00:00</td>\n",
       "      <td>NaN</td>\n",
       "      <td>Return to Owner</td>\n",
       "      <td>Neutered Male</td>\n",
       "      <td>2190</td>\n",
       "      <td>6.0</td>\n",
       "      <td>(5.0, 7.5]</td>\n",
       "      <td>2014-03-08 17:10:00</td>\n",
       "      <td>3</td>\n",
       "      <td>...</td>\n",
       "      <td>(5.0, 7.5]</td>\n",
       "      <td>2014-03-07 14:26:00</td>\n",
       "      <td>3</td>\n",
       "      <td>2014</td>\n",
       "      <td>2014-03</td>\n",
       "      <td>Friday</td>\n",
       "      <td>14</td>\n",
       "      <td>3.0</td>\n",
       "      <td>1 days 02:44:00.000000000</td>\n",
       "      <td>1.113889</td>\n",
       "    </tr>\n",
       "    <tr>\n",
       "      <th>A047759</th>\n",
       "      <td>10 years</td>\n",
       "      <td>2004-04-02 00:00:00</td>\n",
       "      <td>Partner</td>\n",
       "      <td>Transfer</td>\n",
       "      <td>Neutered Male</td>\n",
       "      <td>3650</td>\n",
       "      <td>10.0</td>\n",
       "      <td>(7.5, 10.0]</td>\n",
       "      <td>2014-04-07 15:12:00</td>\n",
       "      <td>4</td>\n",
       "      <td>...</td>\n",
       "      <td>(7.5, 10.0]</td>\n",
       "      <td>2014-04-02 15:55:00</td>\n",
       "      <td>4</td>\n",
       "      <td>2014</td>\n",
       "      <td>2014-04</td>\n",
       "      <td>Wednesday</td>\n",
       "      <td>15</td>\n",
       "      <td>1.0</td>\n",
       "      <td>4 days 23:17:00.000000000</td>\n",
       "      <td>4.970139</td>\n",
       "    </tr>\n",
       "    <tr>\n",
       "      <th>A134067</th>\n",
       "      <td>16 years</td>\n",
       "      <td>1997-10-16 00:00:00</td>\n",
       "      <td>NaN</td>\n",
       "      <td>Return to Owner</td>\n",
       "      <td>Neutered Male</td>\n",
       "      <td>5840</td>\n",
       "      <td>16.0</td>\n",
       "      <td>(15.0, 17.5]</td>\n",
       "      <td>2013-11-16 11:54:00</td>\n",
       "      <td>11</td>\n",
       "      <td>...</td>\n",
       "      <td>(15.0, 17.5]</td>\n",
       "      <td>2013-11-16 09:02:00</td>\n",
       "      <td>11</td>\n",
       "      <td>2013</td>\n",
       "      <td>2013-11</td>\n",
       "      <td>Saturday</td>\n",
       "      <td>9</td>\n",
       "      <td>1.0</td>\n",
       "      <td>0 days 02:52:00.000000000</td>\n",
       "      <td>0.119444</td>\n",
       "    </tr>\n",
       "  </tbody>\n",
       "</table>\n",
       "<p>5 rows × 40 columns</p>\n",
       "</div>"
      ],
      "text/plain": [
       "          age_upon_outcome        date_of_birth outcome_subtype  \\\n",
       "Animal ID                                                         \n",
       "A006100           10 years  2007-07-09 00:00:00             NaN   \n",
       "A006100            7 years  2007-07-09 00:00:00             NaN   \n",
       "A006100            6 years  2007-07-09 00:00:00             NaN   \n",
       "A047759           10 years  2004-04-02 00:00:00         Partner   \n",
       "A134067           16 years  1997-10-16 00:00:00             NaN   \n",
       "\n",
       "              outcome_type sex_upon_outcome  age_upon_outcome_(days)  \\\n",
       "Animal ID                                                              \n",
       "A006100    Return to Owner    Neutered Male                     3650   \n",
       "A006100    Return to Owner    Neutered Male                     2555   \n",
       "A006100    Return to Owner    Neutered Male                     2190   \n",
       "A047759           Transfer    Neutered Male                     3650   \n",
       "A134067    Return to Owner    Neutered Male                     5840   \n",
       "\n",
       "           age_upon_outcome_(years) age_upon_outcome_age_group  \\\n",
       "Animal ID                                                        \n",
       "A006100                        10.0                (7.5, 10.0]   \n",
       "A006100                         7.0                 (5.0, 7.5]   \n",
       "A006100                         6.0                 (5.0, 7.5]   \n",
       "A047759                        10.0                (7.5, 10.0]   \n",
       "A134067                        16.0               (15.0, 17.5]   \n",
       "\n",
       "              outcome_datetime  outcome_month  ...  age_upon_intake_age_group  \\\n",
       "Animal ID                                      ...                              \n",
       "A006100    2017-12-07 14:07:00             12  ...                (7.5, 10.0]   \n",
       "A006100    2014-12-20 16:35:00             12  ...                 (5.0, 7.5]   \n",
       "A006100    2014-03-08 17:10:00              3  ...                 (5.0, 7.5]   \n",
       "A047759    2014-04-07 15:12:00              4  ...                (7.5, 10.0]   \n",
       "A134067    2013-11-16 11:54:00             11  ...               (15.0, 17.5]   \n",
       "\n",
       "               intake_datetime intake_month  intake_year  intake_monthyear  \\\n",
       "Animal ID                                                                    \n",
       "A006100    2017-12-07 00:00:00           12         2017           2017-12   \n",
       "A006100    2014-12-19 10:21:00           12         2014           2014-12   \n",
       "A006100    2014-03-07 14:26:00            3         2014           2014-03   \n",
       "A047759    2014-04-02 15:55:00            4         2014           2014-04   \n",
       "A134067    2013-11-16 09:02:00           11         2013           2013-11   \n",
       "\n",
       "           intake_weekday  intake_hour intake_number  \\\n",
       "Animal ID                                              \n",
       "A006100          Thursday           14           1.0   \n",
       "A006100            Friday           10           2.0   \n",
       "A006100            Friday           14           3.0   \n",
       "A047759         Wednesday           15           1.0   \n",
       "A134067          Saturday            9           1.0   \n",
       "\n",
       "                     time_in_shelter time_in_shelter_days  \n",
       "Animal ID                                                  \n",
       "A006100    0 days 14:07:00.000000000             0.588194  \n",
       "A006100    1 days 06:14:00.000000000             1.259722  \n",
       "A006100    1 days 02:44:00.000000000             1.113889  \n",
       "A047759    4 days 23:17:00.000000000             4.970139  \n",
       "A134067    0 days 02:52:00.000000000             0.119444  \n",
       "\n",
       "[5 rows x 40 columns]"
      ]
     },
     "execution_count": 25,
     "metadata": {},
     "output_type": "execute_result"
    }
   ],
   "source": [
    "df = pd.read_csv('aac_intakes_outcomes.csv', index_col='animal_id_outcome')\n",
    "df.index.rename('Animal ID', inplace=True)\n",
    "df.head()"
   ]
  },
  {
   "cell_type": "code",
   "execution_count": 26,
   "metadata": {},
   "outputs": [
    {
     "data": {
      "text/plain": [
       "array(['age_upon_outcome', 'date_of_birth', 'outcome_subtype',\n",
       "       'outcome_type', 'sex_upon_outcome', 'age_upon_outcome_(days)',\n",
       "       'age_upon_outcome_(years)', 'age_upon_outcome_age_group',\n",
       "       'outcome_datetime', 'outcome_month', 'outcome_year',\n",
       "       'outcome_monthyear', 'outcome_weekday', 'outcome_hour',\n",
       "       'outcome_number', 'dob_year', 'dob_month', 'dob_monthyear',\n",
       "       'age_upon_intake', 'animal_id_intake', 'animal_type', 'breed',\n",
       "       'color', 'found_location', 'intake_condition', 'intake_type',\n",
       "       'sex_upon_intake', 'count', 'age_upon_intake_(days)',\n",
       "       'age_upon_intake_(years)', 'age_upon_intake_age_group',\n",
       "       'intake_datetime', 'intake_month', 'intake_year',\n",
       "       'intake_monthyear', 'intake_weekday', 'intake_hour',\n",
       "       'intake_number', 'time_in_shelter', 'time_in_shelter_days'],\n",
       "      dtype=object)"
      ]
     },
     "execution_count": 26,
     "metadata": {},
     "output_type": "execute_result"
    }
   ],
   "source": [
    "#look at columns\n",
    "df.columns.values"
   ]
  },
  {
   "cell_type": "code",
   "execution_count": 27,
   "metadata": {},
   "outputs": [],
   "source": [
    "#for our purposes, we don't need DOB information, outcome subtype, found location and some others\n",
    "df.drop(['date_of_birth', 'outcome_subtype', 'dob_year', 'dob_month', 'dob_monthyear', \n",
    "         'found_location', 'outcome_number', 'intake_number', 'animal_id_intake'], axis=1, inplace=True)"
   ]
  },
  {
   "cell_type": "code",
   "execution_count": 28,
   "metadata": {},
   "outputs": [
    {
     "name": "stdout",
     "output_type": "stream",
     "text": [
      "['age_upon_outcome' 'outcome_type' 'sex_upon_outcome'\n",
      " 'age_upon_outcome_(days)' 'age_upon_outcome_(years)'\n",
      " 'age_upon_outcome_age_group' 'outcome_datetime' 'outcome_month'\n",
      " 'outcome_year' 'outcome_monthyear' 'outcome_weekday' 'outcome_hour'\n",
      " 'age_upon_intake' 'animal_type' 'breed' 'color' 'intake_condition'\n",
      " 'intake_type' 'sex_upon_intake' 'count' 'age_upon_intake_(days)'\n",
      " 'age_upon_intake_(years)' 'age_upon_intake_age_group' 'intake_datetime'\n",
      " 'intake_month' 'intake_year' 'intake_monthyear' 'intake_weekday'\n",
      " 'intake_hour' 'time_in_shelter' 'time_in_shelter_days']\n",
      "['Outcome Age' 'Outcome Type' 'Sex Upon Outcome' 'Outcome Age (days)'\n",
      " 'Outcome Age (years)' 'Outcome Age Group' 'outcome_datetime'\n",
      " 'Outcome Month' 'Outcome Year' 'Outcome MY' 'Outcome Weekday'\n",
      " 'Outcome Hour' 'Intake Age' 'Animal Type' 'Breed' 'Color'\n",
      " 'Intake Condition' 'Intake Type' 'Sex Upon Intake' 'Count'\n",
      " 'Intake Age (days)' 'Intake Age (years)' 'Intake Age Group'\n",
      " 'Intake DateTime' 'Intake Month' 'Intake Year' 'Intake MY'\n",
      " 'Intake Weekday' 'Intake Hour' 'Time in Shelter' 'Time in Shelter (days)']\n"
     ]
    }
   ],
   "source": [
    "#let's rename the columns we do have\n",
    "print(df.columns.values)\n",
    "df.columns = ['Outcome Age', 'Outcome Type', 'Sex Upon Outcome',\n",
    " 'Outcome Age (days)', 'Outcome Age (years)', 'Outcome Age Group', 'outcome_datetime',\n",
    " 'Outcome Month', 'Outcome Year', 'Outcome MY', 'Outcome Weekday',\n",
    " 'Outcome Hour',  'Intake Age', \n",
    " 'Animal Type', 'Breed', 'Color', 'Intake Condition', 'Intake Type',\n",
    " 'Sex Upon Intake', 'Count', 'Intake Age (days)',\n",
    " 'Intake Age (years)', 'Intake Age Group', 'Intake DateTime', 'Intake Month', 'Intake Year',\n",
    " 'Intake MY', 'Intake Weekday', 'Intake Hour',\n",
    " 'Time in Shelter', 'Time in Shelter (days)']\n",
    "print(df.columns.values)"
   ]
  },
  {
   "cell_type": "code",
   "execution_count": 29,
   "metadata": {},
   "outputs": [
    {
     "data": {
      "text/html": [
       "<div>\n",
       "<style scoped>\n",
       "    .dataframe tbody tr th:only-of-type {\n",
       "        vertical-align: middle;\n",
       "    }\n",
       "\n",
       "    .dataframe tbody tr th {\n",
       "        vertical-align: top;\n",
       "    }\n",
       "\n",
       "    .dataframe thead th {\n",
       "        text-align: right;\n",
       "    }\n",
       "</style>\n",
       "<table border=\"1\" class=\"dataframe\">\n",
       "  <thead>\n",
       "    <tr style=\"text-align: right;\">\n",
       "      <th></th>\n",
       "      <th>Outcome Age (days)</th>\n",
       "      <th>Outcome Age (years)</th>\n",
       "      <th>Outcome Month</th>\n",
       "      <th>Outcome Year</th>\n",
       "      <th>Outcome Hour</th>\n",
       "      <th>Count</th>\n",
       "      <th>Intake Age (days)</th>\n",
       "      <th>Intake Age (years)</th>\n",
       "      <th>Intake Month</th>\n",
       "      <th>Intake Year</th>\n",
       "      <th>Intake Hour</th>\n",
       "      <th>Time in Shelter (days)</th>\n",
       "    </tr>\n",
       "  </thead>\n",
       "  <tbody>\n",
       "    <tr>\n",
       "      <th>count</th>\n",
       "      <td>79672.000000</td>\n",
       "      <td>79672.000000</td>\n",
       "      <td>79672.000000</td>\n",
       "      <td>79672.000000</td>\n",
       "      <td>79672.000000</td>\n",
       "      <td>79672.0</td>\n",
       "      <td>79672.000000</td>\n",
       "      <td>79672.000000</td>\n",
       "      <td>79672.000000</td>\n",
       "      <td>79672.000000</td>\n",
       "      <td>79672.000000</td>\n",
       "      <td>79672.000000</td>\n",
       "    </tr>\n",
       "    <tr>\n",
       "      <th>mean</th>\n",
       "      <td>782.046127</td>\n",
       "      <td>2.142592</td>\n",
       "      <td>6.655425</td>\n",
       "      <td>2015.472563</td>\n",
       "      <td>14.297306</td>\n",
       "      <td>1.0</td>\n",
       "      <td>769.341701</td>\n",
       "      <td>2.107785</td>\n",
       "      <td>6.584032</td>\n",
       "      <td>2015.436101</td>\n",
       "      <td>13.487022</td>\n",
       "      <td>16.757116</td>\n",
       "    </tr>\n",
       "    <tr>\n",
       "      <th>std</th>\n",
       "      <td>1058.528519</td>\n",
       "      <td>2.900078</td>\n",
       "      <td>3.414284</td>\n",
       "      <td>1.305944</td>\n",
       "      <td>3.774317</td>\n",
       "      <td>0.0</td>\n",
       "      <td>1056.009040</td>\n",
       "      <td>2.893175</td>\n",
       "      <td>3.366579</td>\n",
       "      <td>1.303157</td>\n",
       "      <td>3.121173</td>\n",
       "      <td>41.679359</td>\n",
       "    </tr>\n",
       "    <tr>\n",
       "      <th>min</th>\n",
       "      <td>0.000000</td>\n",
       "      <td>0.000000</td>\n",
       "      <td>1.000000</td>\n",
       "      <td>2013.000000</td>\n",
       "      <td>0.000000</td>\n",
       "      <td>1.0</td>\n",
       "      <td>0.000000</td>\n",
       "      <td>0.000000</td>\n",
       "      <td>1.000000</td>\n",
       "      <td>2013.000000</td>\n",
       "      <td>0.000000</td>\n",
       "      <td>0.000000</td>\n",
       "    </tr>\n",
       "    <tr>\n",
       "      <th>25%</th>\n",
       "      <td>90.000000</td>\n",
       "      <td>0.246575</td>\n",
       "      <td>4.000000</td>\n",
       "      <td>2014.000000</td>\n",
       "      <td>12.000000</td>\n",
       "      <td>1.0</td>\n",
       "      <td>60.000000</td>\n",
       "      <td>0.164384</td>\n",
       "      <td>4.000000</td>\n",
       "      <td>2014.000000</td>\n",
       "      <td>11.000000</td>\n",
       "      <td>1.102083</td>\n",
       "    </tr>\n",
       "    <tr>\n",
       "      <th>50%</th>\n",
       "      <td>365.000000</td>\n",
       "      <td>1.000000</td>\n",
       "      <td>7.000000</td>\n",
       "      <td>2015.000000</td>\n",
       "      <td>15.000000</td>\n",
       "      <td>1.0</td>\n",
       "      <td>365.000000</td>\n",
       "      <td>1.000000</td>\n",
       "      <td>7.000000</td>\n",
       "      <td>2015.000000</td>\n",
       "      <td>13.000000</td>\n",
       "      <td>4.987153</td>\n",
       "    </tr>\n",
       "    <tr>\n",
       "      <th>75%</th>\n",
       "      <td>1095.000000</td>\n",
       "      <td>3.000000</td>\n",
       "      <td>10.000000</td>\n",
       "      <td>2017.000000</td>\n",
       "      <td>17.000000</td>\n",
       "      <td>1.0</td>\n",
       "      <td>1095.000000</td>\n",
       "      <td>3.000000</td>\n",
       "      <td>10.000000</td>\n",
       "      <td>2017.000000</td>\n",
       "      <td>16.000000</td>\n",
       "      <td>13.610764</td>\n",
       "    </tr>\n",
       "    <tr>\n",
       "      <th>max</th>\n",
       "      <td>9125.000000</td>\n",
       "      <td>25.000000</td>\n",
       "      <td>12.000000</td>\n",
       "      <td>2018.000000</td>\n",
       "      <td>23.000000</td>\n",
       "      <td>1.0</td>\n",
       "      <td>9125.000000</td>\n",
       "      <td>25.000000</td>\n",
       "      <td>12.000000</td>\n",
       "      <td>2018.000000</td>\n",
       "      <td>23.000000</td>\n",
       "      <td>1606.194444</td>\n",
       "    </tr>\n",
       "  </tbody>\n",
       "</table>\n",
       "</div>"
      ],
      "text/plain": [
       "       Outcome Age (days)  Outcome Age (years)  Outcome Month  Outcome Year  \\\n",
       "count        79672.000000         79672.000000   79672.000000  79672.000000   \n",
       "mean           782.046127             2.142592       6.655425   2015.472563   \n",
       "std           1058.528519             2.900078       3.414284      1.305944   \n",
       "min              0.000000             0.000000       1.000000   2013.000000   \n",
       "25%             90.000000             0.246575       4.000000   2014.000000   \n",
       "50%            365.000000             1.000000       7.000000   2015.000000   \n",
       "75%           1095.000000             3.000000      10.000000   2017.000000   \n",
       "max           9125.000000            25.000000      12.000000   2018.000000   \n",
       "\n",
       "       Outcome Hour    Count  Intake Age (days)  Intake Age (years)  \\\n",
       "count  79672.000000  79672.0       79672.000000        79672.000000   \n",
       "mean      14.297306      1.0         769.341701            2.107785   \n",
       "std        3.774317      0.0        1056.009040            2.893175   \n",
       "min        0.000000      1.0           0.000000            0.000000   \n",
       "25%       12.000000      1.0          60.000000            0.164384   \n",
       "50%       15.000000      1.0         365.000000            1.000000   \n",
       "75%       17.000000      1.0        1095.000000            3.000000   \n",
       "max       23.000000      1.0        9125.000000           25.000000   \n",
       "\n",
       "       Intake Month   Intake Year   Intake Hour  Time in Shelter (days)  \n",
       "count  79672.000000  79672.000000  79672.000000            79672.000000  \n",
       "mean       6.584032   2015.436101     13.487022               16.757116  \n",
       "std        3.366579      1.303157      3.121173               41.679359  \n",
       "min        1.000000   2013.000000      0.000000                0.000000  \n",
       "25%        4.000000   2014.000000     11.000000                1.102083  \n",
       "50%        7.000000   2015.000000     13.000000                4.987153  \n",
       "75%       10.000000   2017.000000     16.000000               13.610764  \n",
       "max       12.000000   2018.000000     23.000000             1606.194444  "
      ]
     },
     "execution_count": 29,
     "metadata": {},
     "output_type": "execute_result"
    }
   ],
   "source": [
    "#make sure everything looks right\n",
    "df.describe()"
   ]
  },
  {
   "cell_type": "markdown",
   "metadata": {},
   "source": [
    "We notice that some of the outcome and intake ages have 0 values"
   ]
  },
  {
   "cell_type": "code",
   "execution_count": 30,
   "metadata": {},
   "outputs": [
    {
     "name": "stdout",
     "output_type": "stream",
     "text": [
      "Outcome Age (days) is 0:   94\n",
      "Outcome Age (years) is 0:  94\n",
      "Intake Age (days) is 0:    450\n",
      "Intake Age (years) is 0:   450\n"
     ]
    }
   ],
   "source": [
    "print('Outcome Age (days) is 0:  ', sum(df['Outcome Age (days)'] == 0))\n",
    "print('Outcome Age (years) is 0: ', sum(df['Outcome Age (years)'] == 0))\n",
    "print('Intake Age (days) is 0:   ', sum(df['Intake Age (days)'] == 0))\n",
    "print('Intake Age (years) is 0:  ', sum(df['Intake Age (years)'] == 0))"
   ]
  },
  {
   "cell_type": "markdown",
   "metadata": {},
   "source": [
    "Since there isn't a significant amount, we can drop those rows"
   ]
  },
  {
   "cell_type": "code",
   "execution_count": 31,
   "metadata": {},
   "outputs": [],
   "source": [
    "df.drop(df[df['Outcome Age (days)'] == 0].index, inplace=True, axis=0)\n",
    "df.drop(df[df['Intake Age (years)'] == 0].index, inplace=True, axis=0)"
   ]
  },
  {
   "cell_type": "code",
   "execution_count": 32,
   "metadata": {},
   "outputs": [
    {
     "name": "stdout",
     "output_type": "stream",
     "text": [
      "Outcome Age (days) is 0:   0\n",
      "Outcome Age (years) is 0:  0\n",
      "Intake Age (days) is 0:    0\n",
      "Intake Age (years) is 0:   0\n"
     ]
    }
   ],
   "source": [
    "#make sure there's no more\n",
    "print('Outcome Age (days) is 0:  ', sum(df['Outcome Age (days)'] == 0))\n",
    "print('Outcome Age (years) is 0: ', sum(df['Outcome Age (years)'] == 0))\n",
    "print('Intake Age (days) is 0:   ', sum(df['Intake Age (days)'] == 0))\n",
    "print('Intake Age (years) is 0:  ', sum(df['Intake Age (years)'] == 0))"
   ]
  },
  {
   "cell_type": "markdown",
   "metadata": {},
   "source": [
    "Let's look at the numerical values again, it looks a lot better now"
   ]
  },
  {
   "cell_type": "code",
   "execution_count": 33,
   "metadata": {},
   "outputs": [
    {
     "data": {
      "text/html": [
       "<div>\n",
       "<style scoped>\n",
       "    .dataframe tbody tr th:only-of-type {\n",
       "        vertical-align: middle;\n",
       "    }\n",
       "\n",
       "    .dataframe tbody tr th {\n",
       "        vertical-align: top;\n",
       "    }\n",
       "\n",
       "    .dataframe thead th {\n",
       "        text-align: right;\n",
       "    }\n",
       "</style>\n",
       "<table border=\"1\" class=\"dataframe\">\n",
       "  <thead>\n",
       "    <tr style=\"text-align: right;\">\n",
       "      <th></th>\n",
       "      <th>Outcome Age (days)</th>\n",
       "      <th>Outcome Age (years)</th>\n",
       "      <th>Outcome Month</th>\n",
       "      <th>Outcome Year</th>\n",
       "      <th>Outcome Hour</th>\n",
       "      <th>Count</th>\n",
       "      <th>Intake Age (days)</th>\n",
       "      <th>Intake Age (years)</th>\n",
       "      <th>Intake Month</th>\n",
       "      <th>Intake Year</th>\n",
       "      <th>Intake Hour</th>\n",
       "      <th>Time in Shelter (days)</th>\n",
       "    </tr>\n",
       "  </thead>\n",
       "  <tbody>\n",
       "    <tr>\n",
       "      <th>count</th>\n",
       "      <td>79203.000000</td>\n",
       "      <td>79203.000000</td>\n",
       "      <td>79203.000000</td>\n",
       "      <td>79203.000000</td>\n",
       "      <td>79203.000000</td>\n",
       "      <td>79203.0</td>\n",
       "      <td>79203.000000</td>\n",
       "      <td>79203.000000</td>\n",
       "      <td>79203.000000</td>\n",
       "      <td>79203.000000</td>\n",
       "      <td>79203.000000</td>\n",
       "      <td>79203.000000</td>\n",
       "    </tr>\n",
       "    <tr>\n",
       "      <th>mean</th>\n",
       "      <td>786.467280</td>\n",
       "      <td>2.154705</td>\n",
       "      <td>6.656124</td>\n",
       "      <td>2015.472293</td>\n",
       "      <td>14.300797</td>\n",
       "      <td>1.0</td>\n",
       "      <td>773.820777</td>\n",
       "      <td>2.120057</td>\n",
       "      <td>6.585003</td>\n",
       "      <td>2015.436044</td>\n",
       "      <td>13.488795</td>\n",
       "      <td>16.670654</td>\n",
       "    </tr>\n",
       "    <tr>\n",
       "      <th>std</th>\n",
       "      <td>1060.074017</td>\n",
       "      <td>2.904312</td>\n",
       "      <td>3.416657</td>\n",
       "      <td>1.306271</td>\n",
       "      <td>3.770535</td>\n",
       "      <td>0.0</td>\n",
       "      <td>1057.502961</td>\n",
       "      <td>2.897268</td>\n",
       "      <td>3.368998</td>\n",
       "      <td>1.303712</td>\n",
       "      <td>3.117224</td>\n",
       "      <td>41.685701</td>\n",
       "    </tr>\n",
       "    <tr>\n",
       "      <th>min</th>\n",
       "      <td>1.000000</td>\n",
       "      <td>0.002740</td>\n",
       "      <td>1.000000</td>\n",
       "      <td>2013.000000</td>\n",
       "      <td>0.000000</td>\n",
       "      <td>1.0</td>\n",
       "      <td>1.000000</td>\n",
       "      <td>0.002740</td>\n",
       "      <td>1.000000</td>\n",
       "      <td>2013.000000</td>\n",
       "      <td>0.000000</td>\n",
       "      <td>0.000000</td>\n",
       "    </tr>\n",
       "    <tr>\n",
       "      <th>25%</th>\n",
       "      <td>90.000000</td>\n",
       "      <td>0.246575</td>\n",
       "      <td>4.000000</td>\n",
       "      <td>2014.000000</td>\n",
       "      <td>12.000000</td>\n",
       "      <td>1.0</td>\n",
       "      <td>60.000000</td>\n",
       "      <td>0.164384</td>\n",
       "      <td>4.000000</td>\n",
       "      <td>2014.000000</td>\n",
       "      <td>11.000000</td>\n",
       "      <td>1.102083</td>\n",
       "    </tr>\n",
       "    <tr>\n",
       "      <th>50%</th>\n",
       "      <td>365.000000</td>\n",
       "      <td>1.000000</td>\n",
       "      <td>7.000000</td>\n",
       "      <td>2015.000000</td>\n",
       "      <td>15.000000</td>\n",
       "      <td>1.0</td>\n",
       "      <td>365.000000</td>\n",
       "      <td>1.000000</td>\n",
       "      <td>7.000000</td>\n",
       "      <td>2015.000000</td>\n",
       "      <td>13.000000</td>\n",
       "      <td>4.984028</td>\n",
       "    </tr>\n",
       "    <tr>\n",
       "      <th>75%</th>\n",
       "      <td>1095.000000</td>\n",
       "      <td>3.000000</td>\n",
       "      <td>10.000000</td>\n",
       "      <td>2017.000000</td>\n",
       "      <td>17.000000</td>\n",
       "      <td>1.0</td>\n",
       "      <td>1095.000000</td>\n",
       "      <td>3.000000</td>\n",
       "      <td>10.000000</td>\n",
       "      <td>2017.000000</td>\n",
       "      <td>16.000000</td>\n",
       "      <td>13.248958</td>\n",
       "    </tr>\n",
       "    <tr>\n",
       "      <th>max</th>\n",
       "      <td>9125.000000</td>\n",
       "      <td>25.000000</td>\n",
       "      <td>12.000000</td>\n",
       "      <td>2018.000000</td>\n",
       "      <td>23.000000</td>\n",
       "      <td>1.0</td>\n",
       "      <td>9125.000000</td>\n",
       "      <td>25.000000</td>\n",
       "      <td>12.000000</td>\n",
       "      <td>2018.000000</td>\n",
       "      <td>23.000000</td>\n",
       "      <td>1606.194444</td>\n",
       "    </tr>\n",
       "  </tbody>\n",
       "</table>\n",
       "</div>"
      ],
      "text/plain": [
       "       Outcome Age (days)  Outcome Age (years)  Outcome Month  Outcome Year  \\\n",
       "count        79203.000000         79203.000000   79203.000000  79203.000000   \n",
       "mean           786.467280             2.154705       6.656124   2015.472293   \n",
       "std           1060.074017             2.904312       3.416657      1.306271   \n",
       "min              1.000000             0.002740       1.000000   2013.000000   \n",
       "25%             90.000000             0.246575       4.000000   2014.000000   \n",
       "50%            365.000000             1.000000       7.000000   2015.000000   \n",
       "75%           1095.000000             3.000000      10.000000   2017.000000   \n",
       "max           9125.000000            25.000000      12.000000   2018.000000   \n",
       "\n",
       "       Outcome Hour    Count  Intake Age (days)  Intake Age (years)  \\\n",
       "count  79203.000000  79203.0       79203.000000        79203.000000   \n",
       "mean      14.300797      1.0         773.820777            2.120057   \n",
       "std        3.770535      0.0        1057.502961            2.897268   \n",
       "min        0.000000      1.0           1.000000            0.002740   \n",
       "25%       12.000000      1.0          60.000000            0.164384   \n",
       "50%       15.000000      1.0         365.000000            1.000000   \n",
       "75%       17.000000      1.0        1095.000000            3.000000   \n",
       "max       23.000000      1.0        9125.000000           25.000000   \n",
       "\n",
       "       Intake Month   Intake Year   Intake Hour  Time in Shelter (days)  \n",
       "count  79203.000000  79203.000000  79203.000000            79203.000000  \n",
       "mean       6.585003   2015.436044     13.488795               16.670654  \n",
       "std        3.368998      1.303712      3.117224               41.685701  \n",
       "min        1.000000   2013.000000      0.000000                0.000000  \n",
       "25%        4.000000   2014.000000     11.000000                1.102083  \n",
       "50%        7.000000   2015.000000     13.000000                4.984028  \n",
       "75%       10.000000   2017.000000     16.000000               13.248958  \n",
       "max       12.000000   2018.000000     23.000000             1606.194444  "
      ]
     },
     "execution_count": 33,
     "metadata": {},
     "output_type": "execute_result"
    }
   ],
   "source": [
    "df.describe()"
   ]
  },
  {
   "cell_type": "markdown",
   "metadata": {},
   "source": [
    "When looking at the data, we noticed that there are duplicates of animals on the ID"
   ]
  },
  {
   "cell_type": "code",
   "execution_count": 34,
   "metadata": {},
   "outputs": [
    {
     "name": "stdout",
     "output_type": "stream",
     "text": [
      "Does there exist duplicates?\n",
      "          Outcome Age     Outcome Type Sex Upon Outcome  Outcome Age (days)  \\\n",
      "Animal ID                                                                     \n",
      "A006100       7 years  Return to Owner    Neutered Male                2555   \n",
      "A006100       6 years  Return to Owner    Neutered Male                2190   \n",
      "A245945      14 years  Return to Owner    Neutered Male                5110   \n",
      "A282897      12 years         Adoption    Neutered Male                4380   \n",
      "A287017      13 years  Return to Owner    Spayed Female                4745   \n",
      "...               ...              ...              ...                 ...   \n",
      "A768895       1 month         Adoption    Spayed Female                  30   \n",
      "A768899       3 years  Return to Owner    Neutered Male                1095   \n",
      "A768908      6 months         Adoption    Spayed Female                 180   \n",
      "A768910       4 years         Adoption    Neutered Male                1460   \n",
      "A768917        1 year       Euthanasia          Unknown                 365   \n",
      "\n",
      "           Outcome Age (years) Outcome Age Group     outcome_datetime  \\\n",
      "Animal ID                                                               \n",
      "A006100               7.000000        (5.0, 7.5]  2014-12-20 16:35:00   \n",
      "A006100               6.000000        (5.0, 7.5]  2014-03-08 17:10:00   \n",
      "A245945              14.000000      (12.5, 15.0]  2014-07-04 15:26:00   \n",
      "A282897              12.000000      (10.0, 12.5]  2013-12-28 17:05:00   \n",
      "A287017              13.000000      (12.5, 15.0]  2014-12-12 16:49:00   \n",
      "...                        ...               ...                  ...   \n",
      "A768895               0.082192     (-0.025, 2.5]  2018-03-28 16:14:00   \n",
      "A768899               3.000000        (2.5, 5.0]  2018-04-02 11:54:00   \n",
      "A768908               0.493151     (-0.025, 2.5]  2018-04-01 16:54:00   \n",
      "A768910               4.000000        (2.5, 5.0]  2018-03-31 16:17:00   \n",
      "A768917               1.000000     (-0.025, 2.5]  2018-03-27 14:23:00   \n",
      "\n",
      "           Outcome Month  Outcome Year Outcome MY  ... Intake Age (years)  \\\n",
      "Animal ID                                          ...                      \n",
      "A006100               12          2014    2014-12  ...           7.000000   \n",
      "A006100                3          2014    2014-03  ...           6.000000   \n",
      "A245945                7          2014    2014-07  ...          14.000000   \n",
      "A282897               12          2013    2013-12  ...          12.000000   \n",
      "A287017               12          2014    2014-12  ...          13.000000   \n",
      "...                  ...           ...        ...  ...                ...   \n",
      "A768895                3          2018    2018-03  ...           0.082192   \n",
      "A768899                4          2018    2018-04  ...           3.000000   \n",
      "A768908                4          2018    2018-04  ...           0.410959   \n",
      "A768910                3          2018    2018-03  ...           4.000000   \n",
      "A768917                3          2018    2018-03  ...           1.000000   \n",
      "\n",
      "           Intake Age Group      Intake DateTime Intake Month Intake Year  \\\n",
      "Animal ID                                                                   \n",
      "A006100          (5.0, 7.5]  2014-12-19 10:21:00           12        2014   \n",
      "A006100          (5.0, 7.5]  2014-03-07 14:26:00            3        2014   \n",
      "A245945        (12.5, 15.0]  2014-07-03 17:55:00            7        2014   \n",
      "A282897        (10.0, 12.5]  2013-11-21 13:45:00           11        2013   \n",
      "A287017        (12.5, 15.0]  2014-12-12 07:04:00           12        2014   \n",
      "...                     ...                  ...          ...         ...   \n",
      "A768895       (-0.025, 2.5]  2018-03-26 18:43:00            3        2018   \n",
      "A768899          (2.5, 5.0]  2018-03-27 11:17:00            3        2018   \n",
      "A768908       (-0.025, 2.5]  2018-03-27 11:11:00            3        2018   \n",
      "A768910          (2.5, 5.0]  2018-03-27 11:13:00            3        2018   \n",
      "A768917       (-0.025, 2.5]  2018-03-27 12:32:00            3        2018   \n",
      "\n",
      "          Intake MY Intake Weekday Intake Hour             Time in Shelter  \\\n",
      "Animal ID                                                                    \n",
      "A006100     2014-12         Friday          10   1 days 06:14:00.000000000   \n",
      "A006100     2014-03         Friday          14   1 days 02:44:00.000000000   \n",
      "A245945     2014-07       Thursday          17   0 days 21:31:00.000000000   \n",
      "A282897     2013-11       Thursday          13  37 days 03:20:00.000000000   \n",
      "A287017     2014-12         Friday           7   0 days 09:45:00.000000000   \n",
      "...             ...            ...         ...                         ...   \n",
      "A768895     2018-03         Monday          18   1 days 21:31:00.000000000   \n",
      "A768899     2018-03        Tuesday          11   6 days 00:37:00.000000000   \n",
      "A768908     2018-03        Tuesday          11   5 days 05:43:00.000000000   \n",
      "A768910     2018-03        Tuesday          11   4 days 05:04:00.000000000   \n",
      "A768917     2018-03        Tuesday          12   0 days 01:51:00.000000000   \n",
      "\n",
      "           Time in Shelter (days)  \n",
      "Animal ID                          \n",
      "A006100                  1.259722  \n",
      "A006100                  1.113889  \n",
      "A245945                  0.896528  \n",
      "A282897                 37.138889  \n",
      "A287017                  0.406250  \n",
      "...                           ...  \n",
      "A768895                  1.896528  \n",
      "A768899                  6.025694  \n",
      "A768908                  5.238194  \n",
      "A768910                  4.211111  \n",
      "A768917                  0.077083  \n",
      "\n",
      "[7692 rows x 31 columns]\n"
     ]
    }
   ],
   "source": [
    "print(\"Does there exist duplicates?\")\n",
    "print(df[df.index.duplicated() == True])"
   ]
  },
  {
   "cell_type": "markdown",
   "metadata": {},
   "source": [
    "<h4> When looking further, the duplicated values are different instances where the same animal entered and exited the shelther, so there is no need to drop those rows"
   ]
  },
  {
   "cell_type": "code",
   "execution_count": 35,
   "metadata": {},
   "outputs": [
    {
     "data": {
      "text/plain": [
       "array(['Outcome Age', 'Outcome Type', 'Sex Upon Outcome',\n",
       "       'Outcome Age (days)', 'Outcome Age (years)', 'Outcome Age Group',\n",
       "       'outcome_datetime', 'Outcome Month', 'Outcome Year', 'Outcome MY',\n",
       "       'Outcome Weekday', 'Outcome Hour', 'Intake Age', 'Animal Type',\n",
       "       'Breed', 'Color', 'Intake Condition', 'Intake Type',\n",
       "       'Sex Upon Intake', 'Count', 'Intake Age (days)',\n",
       "       'Intake Age (years)', 'Intake Age Group', 'Intake DateTime',\n",
       "       'Intake Month', 'Intake Year', 'Intake MY', 'Intake Weekday',\n",
       "       'Intake Hour', 'Time in Shelter', 'Time in Shelter (days)'],\n",
       "      dtype=object)"
      ]
     },
     "execution_count": 35,
     "metadata": {},
     "output_type": "execute_result"
    }
   ],
   "source": [
    "df.columns.values"
   ]
  },
  {
   "cell_type": "markdown",
   "metadata": {},
   "source": [
    "<h3> We're interested in pets that are adopted"
   ]
  },
  {
   "cell_type": "code",
   "execution_count": 36,
   "metadata": {},
   "outputs": [
    {
     "data": {
      "image/png": "[encoded data removed]",
      "text/plain": [
       "<Figure size 1080x576 with 1 Axes>"
      ]
     },
     "metadata": {
      "needs_background": "light"
     },
     "output_type": "display_data"
    }
   ],
   "source": [
    "df_outcomes = df.groupby('Outcome Type')[['Count']].sum()\n",
    "plt.figure(figsize=(15,8))\n",
    "sns.barplot(x=df_outcomes.index, y=df_outcomes['Count'])\n",
    "plt.title('Outcome Types', fontsize=18)\n",
    "plt.xlabel('Outcome Type', fontsize=14)\n",
    "plt.ylabel('Count', fontsize=14)\n",
    "plt.show()"
   ]
  },
  {
   "cell_type": "markdown",
   "metadata": {},
   "source": [
    "We see that adoption is by far the most popular outcome type, so we will now limit out analysis to animals that have been adopted"
   ]
  },
  {
   "cell_type": "code",
   "execution_count": 37,
   "metadata": {},
   "outputs": [
    {
     "data": {
      "text/html": [
       "<div>\n",
       "<style scoped>\n",
       "    .dataframe tbody tr th:only-of-type {\n",
       "        vertical-align: middle;\n",
       "    }\n",
       "\n",
       "    .dataframe tbody tr th {\n",
       "        vertical-align: top;\n",
       "    }\n",
       "\n",
       "    .dataframe thead th {\n",
       "        text-align: right;\n",
       "    }\n",
       "</style>\n",
       "<table border=\"1\" class=\"dataframe\">\n",
       "  <thead>\n",
       "    <tr style=\"text-align: right;\">\n",
       "      <th></th>\n",
       "      <th>Outcome Age</th>\n",
       "      <th>Outcome Type</th>\n",
       "      <th>Sex Upon Outcome</th>\n",
       "      <th>Outcome Age (days)</th>\n",
       "      <th>Outcome Age (years)</th>\n",
       "      <th>Outcome Age Group</th>\n",
       "      <th>outcome_datetime</th>\n",
       "      <th>Outcome Month</th>\n",
       "      <th>Outcome Year</th>\n",
       "      <th>Outcome MY</th>\n",
       "      <th>...</th>\n",
       "      <th>Intake Age (years)</th>\n",
       "      <th>Intake Age Group</th>\n",
       "      <th>Intake DateTime</th>\n",
       "      <th>Intake Month</th>\n",
       "      <th>Intake Year</th>\n",
       "      <th>Intake MY</th>\n",
       "      <th>Intake Weekday</th>\n",
       "      <th>Intake Hour</th>\n",
       "      <th>Time in Shelter</th>\n",
       "      <th>Time in Shelter (days)</th>\n",
       "    </tr>\n",
       "    <tr>\n",
       "      <th>Animal ID</th>\n",
       "      <th></th>\n",
       "      <th></th>\n",
       "      <th></th>\n",
       "      <th></th>\n",
       "      <th></th>\n",
       "      <th></th>\n",
       "      <th></th>\n",
       "      <th></th>\n",
       "      <th></th>\n",
       "      <th></th>\n",
       "      <th></th>\n",
       "      <th></th>\n",
       "      <th></th>\n",
       "      <th></th>\n",
       "      <th></th>\n",
       "      <th></th>\n",
       "      <th></th>\n",
       "      <th></th>\n",
       "      <th></th>\n",
       "      <th></th>\n",
       "      <th></th>\n",
       "    </tr>\n",
       "  </thead>\n",
       "  <tbody>\n",
       "    <tr>\n",
       "      <th>A200922</th>\n",
       "      <td>16 years</td>\n",
       "      <td>Adoption</td>\n",
       "      <td>Neutered Male</td>\n",
       "      <td>5840</td>\n",
       "      <td>16.0</td>\n",
       "      <td>(15.0, 17.5]</td>\n",
       "      <td>2013-11-22 09:44:00</td>\n",
       "      <td>11</td>\n",
       "      <td>2013</td>\n",
       "      <td>2013-11</td>\n",
       "      <td>...</td>\n",
       "      <td>16.0</td>\n",
       "      <td>(15.0, 17.5]</td>\n",
       "      <td>2013-10-03 15:47:00</td>\n",
       "      <td>10</td>\n",
       "      <td>2013</td>\n",
       "      <td>2013-10</td>\n",
       "      <td>Thursday</td>\n",
       "      <td>15</td>\n",
       "      <td>49 days 17:57:00.000000000</td>\n",
       "      <td>49.747917</td>\n",
       "    </tr>\n",
       "    <tr>\n",
       "      <th>A210457</th>\n",
       "      <td>17 years</td>\n",
       "      <td>Adoption</td>\n",
       "      <td>Neutered Male</td>\n",
       "      <td>6205</td>\n",
       "      <td>17.0</td>\n",
       "      <td>(15.0, 17.5]</td>\n",
       "      <td>2016-10-07 12:34:00</td>\n",
       "      <td>10</td>\n",
       "      <td>2016</td>\n",
       "      <td>2016-10</td>\n",
       "      <td>...</td>\n",
       "      <td>17.0</td>\n",
       "      <td>(15.0, 17.5]</td>\n",
       "      <td>2016-09-28 12:05:00</td>\n",
       "      <td>9</td>\n",
       "      <td>2016</td>\n",
       "      <td>2016-09</td>\n",
       "      <td>Wednesday</td>\n",
       "      <td>12</td>\n",
       "      <td>9 days 00:29:00.000000000</td>\n",
       "      <td>9.020139</td>\n",
       "    </tr>\n",
       "    <tr>\n",
       "      <th>A226069</th>\n",
       "      <td>15 years</td>\n",
       "      <td>Adoption</td>\n",
       "      <td>Neutered Male</td>\n",
       "      <td>5475</td>\n",
       "      <td>15.0</td>\n",
       "      <td>(12.5, 15.0]</td>\n",
       "      <td>2015-10-29 15:00:00</td>\n",
       "      <td>10</td>\n",
       "      <td>2015</td>\n",
       "      <td>2015-10</td>\n",
       "      <td>...</td>\n",
       "      <td>15.0</td>\n",
       "      <td>(12.5, 15.0]</td>\n",
       "      <td>2015-10-06 12:29:00</td>\n",
       "      <td>10</td>\n",
       "      <td>2015</td>\n",
       "      <td>2015-10</td>\n",
       "      <td>Tuesday</td>\n",
       "      <td>12</td>\n",
       "      <td>23 days 02:31:00.000000000</td>\n",
       "      <td>23.104861</td>\n",
       "    </tr>\n",
       "    <tr>\n",
       "      <th>A249087</th>\n",
       "      <td>15 years</td>\n",
       "      <td>Adoption</td>\n",
       "      <td>Spayed Female</td>\n",
       "      <td>5475</td>\n",
       "      <td>15.0</td>\n",
       "      <td>(12.5, 15.0]</td>\n",
       "      <td>2016-11-15 10:37:00</td>\n",
       "      <td>11</td>\n",
       "      <td>2016</td>\n",
       "      <td>2016-11</td>\n",
       "      <td>...</td>\n",
       "      <td>15.0</td>\n",
       "      <td>(12.5, 15.0]</td>\n",
       "      <td>2016-08-17 14:05:00</td>\n",
       "      <td>8</td>\n",
       "      <td>2016</td>\n",
       "      <td>2016-08</td>\n",
       "      <td>Wednesday</td>\n",
       "      <td>14</td>\n",
       "      <td>89 days 20:32:00.000000000</td>\n",
       "      <td>89.855556</td>\n",
       "    </tr>\n",
       "    <tr>\n",
       "      <th>A274546</th>\n",
       "      <td>11 years</td>\n",
       "      <td>Adoption</td>\n",
       "      <td>Spayed Female</td>\n",
       "      <td>4015</td>\n",
       "      <td>11.0</td>\n",
       "      <td>(10.0, 12.5]</td>\n",
       "      <td>2013-11-16 12:24:00</td>\n",
       "      <td>11</td>\n",
       "      <td>2013</td>\n",
       "      <td>2013-11</td>\n",
       "      <td>...</td>\n",
       "      <td>11.0</td>\n",
       "      <td>(10.0, 12.5]</td>\n",
       "      <td>2013-11-13 18:16:00</td>\n",
       "      <td>11</td>\n",
       "      <td>2013</td>\n",
       "      <td>2013-11</td>\n",
       "      <td>Wednesday</td>\n",
       "      <td>18</td>\n",
       "      <td>2 days 18:08:00.000000000</td>\n",
       "      <td>2.755556</td>\n",
       "    </tr>\n",
       "  </tbody>\n",
       "</table>\n",
       "<p>5 rows × 31 columns</p>\n",
       "</div>"
      ],
      "text/plain": [
       "          Outcome Age Outcome Type Sex Upon Outcome  Outcome Age (days)  \\\n",
       "Animal ID                                                                 \n",
       "A200922      16 years     Adoption    Neutered Male                5840   \n",
       "A210457      17 years     Adoption    Neutered Male                6205   \n",
       "A226069      15 years     Adoption    Neutered Male                5475   \n",
       "A249087      15 years     Adoption    Spayed Female                5475   \n",
       "A274546      11 years     Adoption    Spayed Female                4015   \n",
       "\n",
       "           Outcome Age (years) Outcome Age Group     outcome_datetime  \\\n",
       "Animal ID                                                               \n",
       "A200922                   16.0      (15.0, 17.5]  2013-11-22 09:44:00   \n",
       "A210457                   17.0      (15.0, 17.5]  2016-10-07 12:34:00   \n",
       "A226069                   15.0      (12.5, 15.0]  2015-10-29 15:00:00   \n",
       "A249087                   15.0      (12.5, 15.0]  2016-11-15 10:37:00   \n",
       "A274546                   11.0      (10.0, 12.5]  2013-11-16 12:24:00   \n",
       "\n",
       "           Outcome Month  Outcome Year Outcome MY  ... Intake Age (years)  \\\n",
       "Animal ID                                          ...                      \n",
       "A200922               11          2013    2013-11  ...               16.0   \n",
       "A210457               10          2016    2016-10  ...               17.0   \n",
       "A226069               10          2015    2015-10  ...               15.0   \n",
       "A249087               11          2016    2016-11  ...               15.0   \n",
       "A274546               11          2013    2013-11  ...               11.0   \n",
       "\n",
       "           Intake Age Group      Intake DateTime Intake Month Intake Year  \\\n",
       "Animal ID                                                                   \n",
       "A200922        (15.0, 17.5]  2013-10-03 15:47:00           10        2013   \n",
       "A210457        (15.0, 17.5]  2016-09-28 12:05:00            9        2016   \n",
       "A226069        (12.5, 15.0]  2015-10-06 12:29:00           10        2015   \n",
       "A249087        (12.5, 15.0]  2016-08-17 14:05:00            8        2016   \n",
       "A274546        (10.0, 12.5]  2013-11-13 18:16:00           11        2013   \n",
       "\n",
       "          Intake MY Intake Weekday Intake Hour             Time in Shelter  \\\n",
       "Animal ID                                                                    \n",
       "A200922     2013-10       Thursday          15  49 days 17:57:00.000000000   \n",
       "A210457     2016-09      Wednesday          12   9 days 00:29:00.000000000   \n",
       "A226069     2015-10        Tuesday          12  23 days 02:31:00.000000000   \n",
       "A249087     2016-08      Wednesday          14  89 days 20:32:00.000000000   \n",
       "A274546     2013-11      Wednesday          18   2 days 18:08:00.000000000   \n",
       "\n",
       "           Time in Shelter (days)  \n",
       "Animal ID                          \n",
       "A200922                 49.747917  \n",
       "A210457                  9.020139  \n",
       "A226069                 23.104861  \n",
       "A249087                 89.855556  \n",
       "A274546                  2.755556  \n",
       "\n",
       "[5 rows x 31 columns]"
      ]
     },
     "execution_count": 37,
     "metadata": {},
     "output_type": "execute_result"
    }
   ],
   "source": [
    "df_adopted = df[df['Outcome Type'] == 'Adoption']\n",
    "df_adopted.head()"
   ]
  },
  {
   "cell_type": "markdown",
   "metadata": {},
   "source": [
    "Let's look at the distribution of animals that are adopted"
   ]
  },
  {
   "cell_type": "code",
   "execution_count": 38,
   "metadata": {},
   "outputs": [
    {
     "data": {
      "image/png": "[encoded data removed]",
      "text/plain": [
       "<Figure size 576x360 with 1 Axes>"
      ]
     },
     "metadata": {
      "needs_background": "light"
     },
     "output_type": "display_data"
    }
   ],
   "source": [
    "df_animals = df_adopted.groupby('Animal Type')[['Count']].sum()\n",
    "plt.figure(figsize=(8,5))\n",
    "sns.barplot(x=df_animals.index, y=df_animals['Count'])\n",
    "plt.title('Adopted Animal Counts', fontsize=18)\n",
    "plt.xlabel('Animal Type', fontsize=14)\n",
    "plt.ylabel('Count', fontsize=14)\n",
    "plt.show()"
   ]
  },
  {
   "cell_type": "markdown",
   "metadata": {},
   "source": [
    "Cats are Dogs hold the majority, so we will use those for the rest of our analysis"
   ]
  },
  {
   "cell_type": "code",
   "execution_count": 39,
   "metadata": {},
   "outputs": [
    {
     "name": "stderr",
     "output_type": "stream",
     "text": [
      "//anaconda3/lib/python3.7/site-packages/pandas/core/frame.py:4117: SettingWithCopyWarning: \n",
      "A value is trying to be set on a copy of a slice from a DataFrame\n",
      "\n",
      "See the caveats in the documentation: http://pandas.pydata.org/pandas-docs/stable/user_guide/indexing.html#returning-a-view-versus-a-copy\n",
      "  errors=errors,\n"
     ]
    }
   ],
   "source": [
    "df_adopted.drop(df_adopted[df_adopted['Animal Type'] == 'Bird'].index, inplace=True, axis=0)\n",
    "df_adopted.drop(df_adopted[df_adopted['Animal Type'] == 'Other'].index, inplace=True, axis=0)"
   ]
  },
  {
   "cell_type": "code",
   "execution_count": 40,
   "metadata": {},
   "outputs": [
    {
     "data": {
      "text/plain": [
       "Dog    20489\n",
       "Cat    12590\n",
       "Name: Animal Type, dtype: int64"
      ]
     },
     "execution_count": 40,
     "metadata": {},
     "output_type": "execute_result"
    }
   ],
   "source": [
    "df_adopted['Animal Type'].value_counts()"
   ]
  },
  {
   "cell_type": "markdown",
   "metadata": {},
   "source": [
    "We predict that dogs and cats that are one year old, light-colored, short-haired, and with names have higher rates of adoption in Austin, Texas."
   ]
  },
  {
   "cell_type": "markdown",
   "metadata": {},
   "source": [
    "Let's make two separate dataframes for dogs and cats"
   ]
  },
  {
   "cell_type": "code",
   "execution_count": 41,
   "metadata": {},
   "outputs": [],
   "source": [
    "df_dogs = df_adopted[df_adopted['Animal Type'] == 'Dog']\n",
    "df_cats = df_adopted[df_adopted['Animal Type'] == 'Cat']"
   ]
  },
  {
   "cell_type": "code",
   "execution_count": 42,
   "metadata": {},
   "outputs": [
    {
     "data": {
      "text/html": [
       "<div>\n",
       "<style scoped>\n",
       "    .dataframe tbody tr th:only-of-type {\n",
       "        vertical-align: middle;\n",
       "    }\n",
       "\n",
       "    .dataframe tbody tr th {\n",
       "        vertical-align: top;\n",
       "    }\n",
       "\n",
       "    .dataframe thead th {\n",
       "        text-align: right;\n",
       "    }\n",
       "</style>\n",
       "<table border=\"1\" class=\"dataframe\">\n",
       "  <thead>\n",
       "    <tr style=\"text-align: right;\">\n",
       "      <th></th>\n",
       "      <th>Outcome Age</th>\n",
       "      <th>Outcome Type</th>\n",
       "      <th>Sex Upon Outcome</th>\n",
       "      <th>Outcome Age (days)</th>\n",
       "      <th>Outcome Age (years)</th>\n",
       "      <th>Outcome Age Group</th>\n",
       "      <th>outcome_datetime</th>\n",
       "      <th>Outcome Month</th>\n",
       "      <th>Outcome Year</th>\n",
       "      <th>Outcome MY</th>\n",
       "      <th>...</th>\n",
       "      <th>Intake Age (years)</th>\n",
       "      <th>Intake Age Group</th>\n",
       "      <th>Intake DateTime</th>\n",
       "      <th>Intake Month</th>\n",
       "      <th>Intake Year</th>\n",
       "      <th>Intake MY</th>\n",
       "      <th>Intake Weekday</th>\n",
       "      <th>Intake Hour</th>\n",
       "      <th>Time in Shelter</th>\n",
       "      <th>Time in Shelter (days)</th>\n",
       "    </tr>\n",
       "    <tr>\n",
       "      <th>Animal ID</th>\n",
       "      <th></th>\n",
       "      <th></th>\n",
       "      <th></th>\n",
       "      <th></th>\n",
       "      <th></th>\n",
       "      <th></th>\n",
       "      <th></th>\n",
       "      <th></th>\n",
       "      <th></th>\n",
       "      <th></th>\n",
       "      <th></th>\n",
       "      <th></th>\n",
       "      <th></th>\n",
       "      <th></th>\n",
       "      <th></th>\n",
       "      <th></th>\n",
       "      <th></th>\n",
       "      <th></th>\n",
       "      <th></th>\n",
       "      <th></th>\n",
       "      <th></th>\n",
       "    </tr>\n",
       "  </thead>\n",
       "  <tbody>\n",
       "    <tr>\n",
       "      <th>A200922</th>\n",
       "      <td>16 years</td>\n",
       "      <td>Adoption</td>\n",
       "      <td>Neutered Male</td>\n",
       "      <td>5840</td>\n",
       "      <td>16.0</td>\n",
       "      <td>(15.0, 17.5]</td>\n",
       "      <td>2013-11-22 09:44:00</td>\n",
       "      <td>11</td>\n",
       "      <td>2013</td>\n",
       "      <td>2013-11</td>\n",
       "      <td>...</td>\n",
       "      <td>16.0</td>\n",
       "      <td>(15.0, 17.5]</td>\n",
       "      <td>2013-10-03 15:47:00</td>\n",
       "      <td>10</td>\n",
       "      <td>2013</td>\n",
       "      <td>2013-10</td>\n",
       "      <td>Thursday</td>\n",
       "      <td>15</td>\n",
       "      <td>49 days 17:57:00.000000000</td>\n",
       "      <td>49.747917</td>\n",
       "    </tr>\n",
       "    <tr>\n",
       "      <th>A210457</th>\n",
       "      <td>17 years</td>\n",
       "      <td>Adoption</td>\n",
       "      <td>Neutered Male</td>\n",
       "      <td>6205</td>\n",
       "      <td>17.0</td>\n",
       "      <td>(15.0, 17.5]</td>\n",
       "      <td>2016-10-07 12:34:00</td>\n",
       "      <td>10</td>\n",
       "      <td>2016</td>\n",
       "      <td>2016-10</td>\n",
       "      <td>...</td>\n",
       "      <td>17.0</td>\n",
       "      <td>(15.0, 17.5]</td>\n",
       "      <td>2016-09-28 12:05:00</td>\n",
       "      <td>9</td>\n",
       "      <td>2016</td>\n",
       "      <td>2016-09</td>\n",
       "      <td>Wednesday</td>\n",
       "      <td>12</td>\n",
       "      <td>9 days 00:29:00.000000000</td>\n",
       "      <td>9.020139</td>\n",
       "    </tr>\n",
       "    <tr>\n",
       "      <th>A226069</th>\n",
       "      <td>15 years</td>\n",
       "      <td>Adoption</td>\n",
       "      <td>Neutered Male</td>\n",
       "      <td>5475</td>\n",
       "      <td>15.0</td>\n",
       "      <td>(12.5, 15.0]</td>\n",
       "      <td>2015-10-29 15:00:00</td>\n",
       "      <td>10</td>\n",
       "      <td>2015</td>\n",
       "      <td>2015-10</td>\n",
       "      <td>...</td>\n",
       "      <td>15.0</td>\n",
       "      <td>(12.5, 15.0]</td>\n",
       "      <td>2015-10-06 12:29:00</td>\n",
       "      <td>10</td>\n",
       "      <td>2015</td>\n",
       "      <td>2015-10</td>\n",
       "      <td>Tuesday</td>\n",
       "      <td>12</td>\n",
       "      <td>23 days 02:31:00.000000000</td>\n",
       "      <td>23.104861</td>\n",
       "    </tr>\n",
       "    <tr>\n",
       "      <th>A249087</th>\n",
       "      <td>15 years</td>\n",
       "      <td>Adoption</td>\n",
       "      <td>Spayed Female</td>\n",
       "      <td>5475</td>\n",
       "      <td>15.0</td>\n",
       "      <td>(12.5, 15.0]</td>\n",
       "      <td>2016-11-15 10:37:00</td>\n",
       "      <td>11</td>\n",
       "      <td>2016</td>\n",
       "      <td>2016-11</td>\n",
       "      <td>...</td>\n",
       "      <td>15.0</td>\n",
       "      <td>(12.5, 15.0]</td>\n",
       "      <td>2016-08-17 14:05:00</td>\n",
       "      <td>8</td>\n",
       "      <td>2016</td>\n",
       "      <td>2016-08</td>\n",
       "      <td>Wednesday</td>\n",
       "      <td>14</td>\n",
       "      <td>89 days 20:32:00.000000000</td>\n",
       "      <td>89.855556</td>\n",
       "    </tr>\n",
       "    <tr>\n",
       "      <th>A274546</th>\n",
       "      <td>11 years</td>\n",
       "      <td>Adoption</td>\n",
       "      <td>Spayed Female</td>\n",
       "      <td>4015</td>\n",
       "      <td>11.0</td>\n",
       "      <td>(10.0, 12.5]</td>\n",
       "      <td>2013-11-16 12:24:00</td>\n",
       "      <td>11</td>\n",
       "      <td>2013</td>\n",
       "      <td>2013-11</td>\n",
       "      <td>...</td>\n",
       "      <td>11.0</td>\n",
       "      <td>(10.0, 12.5]</td>\n",
       "      <td>2013-11-13 18:16:00</td>\n",
       "      <td>11</td>\n",
       "      <td>2013</td>\n",
       "      <td>2013-11</td>\n",
       "      <td>Wednesday</td>\n",
       "      <td>18</td>\n",
       "      <td>2 days 18:08:00.000000000</td>\n",
       "      <td>2.755556</td>\n",
       "    </tr>\n",
       "  </tbody>\n",
       "</table>\n",
       "<p>5 rows × 31 columns</p>\n",
       "</div>"
      ],
      "text/plain": [
       "          Outcome Age Outcome Type Sex Upon Outcome  Outcome Age (days)  \\\n",
       "Animal ID                                                                 \n",
       "A200922      16 years     Adoption    Neutered Male                5840   \n",
       "A210457      17 years     Adoption    Neutered Male                6205   \n",
       "A226069      15 years     Adoption    Neutered Male                5475   \n",
       "A249087      15 years     Adoption    Spayed Female                5475   \n",
       "A274546      11 years     Adoption    Spayed Female                4015   \n",
       "\n",
       "           Outcome Age (years) Outcome Age Group     outcome_datetime  \\\n",
       "Animal ID                                                               \n",
       "A200922                   16.0      (15.0, 17.5]  2013-11-22 09:44:00   \n",
       "A210457                   17.0      (15.0, 17.5]  2016-10-07 12:34:00   \n",
       "A226069                   15.0      (12.5, 15.0]  2015-10-29 15:00:00   \n",
       "A249087                   15.0      (12.5, 15.0]  2016-11-15 10:37:00   \n",
       "A274546                   11.0      (10.0, 12.5]  2013-11-16 12:24:00   \n",
       "\n",
       "           Outcome Month  Outcome Year Outcome MY  ... Intake Age (years)  \\\n",
       "Animal ID                                          ...                      \n",
       "A200922               11          2013    2013-11  ...               16.0   \n",
       "A210457               10          2016    2016-10  ...               17.0   \n",
       "A226069               10          2015    2015-10  ...               15.0   \n",
       "A249087               11          2016    2016-11  ...               15.0   \n",
       "A274546               11          2013    2013-11  ...               11.0   \n",
       "\n",
       "           Intake Age Group      Intake DateTime Intake Month Intake Year  \\\n",
       "Animal ID                                                                   \n",
       "A200922        (15.0, 17.5]  2013-10-03 15:47:00           10        2013   \n",
       "A210457        (15.0, 17.5]  2016-09-28 12:05:00            9        2016   \n",
       "A226069        (12.5, 15.0]  2015-10-06 12:29:00           10        2015   \n",
       "A249087        (12.5, 15.0]  2016-08-17 14:05:00            8        2016   \n",
       "A274546        (10.0, 12.5]  2013-11-13 18:16:00           11        2013   \n",
       "\n",
       "          Intake MY Intake Weekday Intake Hour             Time in Shelter  \\\n",
       "Animal ID                                                                    \n",
       "A200922     2013-10       Thursday          15  49 days 17:57:00.000000000   \n",
       "A210457     2016-09      Wednesday          12   9 days 00:29:00.000000000   \n",
       "A226069     2015-10        Tuesday          12  23 days 02:31:00.000000000   \n",
       "A249087     2016-08      Wednesday          14  89 days 20:32:00.000000000   \n",
       "A274546     2013-11      Wednesday          18   2 days 18:08:00.000000000   \n",
       "\n",
       "           Time in Shelter (days)  \n",
       "Animal ID                          \n",
       "A200922                 49.747917  \n",
       "A210457                  9.020139  \n",
       "A226069                 23.104861  \n",
       "A249087                 89.855556  \n",
       "A274546                  2.755556  \n",
       "\n",
       "[5 rows x 31 columns]"
      ]
     },
     "execution_count": 42,
     "metadata": {},
     "output_type": "execute_result"
    }
   ],
   "source": [
    "df_dogs.head()"
   ]
  },
  {
   "cell_type": "code",
   "execution_count": 43,
   "metadata": {},
   "outputs": [
    {
     "data": {
      "text/html": [
       "<div>\n",
       "<style scoped>\n",
       "    .dataframe tbody tr th:only-of-type {\n",
       "        vertical-align: middle;\n",
       "    }\n",
       "\n",
       "    .dataframe tbody tr th {\n",
       "        vertical-align: top;\n",
       "    }\n",
       "\n",
       "    .dataframe thead th {\n",
       "        text-align: right;\n",
       "    }\n",
       "</style>\n",
       "<table border=\"1\" class=\"dataframe\">\n",
       "  <thead>\n",
       "    <tr style=\"text-align: right;\">\n",
       "      <th></th>\n",
       "      <th>Outcome Age</th>\n",
       "      <th>Outcome Type</th>\n",
       "      <th>Sex Upon Outcome</th>\n",
       "      <th>Outcome Age (days)</th>\n",
       "      <th>Outcome Age (years)</th>\n",
       "      <th>Outcome Age Group</th>\n",
       "      <th>outcome_datetime</th>\n",
       "      <th>Outcome Month</th>\n",
       "      <th>Outcome Year</th>\n",
       "      <th>Outcome MY</th>\n",
       "      <th>...</th>\n",
       "      <th>Intake Age (years)</th>\n",
       "      <th>Intake Age Group</th>\n",
       "      <th>Intake DateTime</th>\n",
       "      <th>Intake Month</th>\n",
       "      <th>Intake Year</th>\n",
       "      <th>Intake MY</th>\n",
       "      <th>Intake Weekday</th>\n",
       "      <th>Intake Hour</th>\n",
       "      <th>Time in Shelter</th>\n",
       "      <th>Time in Shelter (days)</th>\n",
       "    </tr>\n",
       "    <tr>\n",
       "      <th>Animal ID</th>\n",
       "      <th></th>\n",
       "      <th></th>\n",
       "      <th></th>\n",
       "      <th></th>\n",
       "      <th></th>\n",
       "      <th></th>\n",
       "      <th></th>\n",
       "      <th></th>\n",
       "      <th></th>\n",
       "      <th></th>\n",
       "      <th></th>\n",
       "      <th></th>\n",
       "      <th></th>\n",
       "      <th></th>\n",
       "      <th></th>\n",
       "      <th></th>\n",
       "      <th></th>\n",
       "      <th></th>\n",
       "      <th></th>\n",
       "      <th></th>\n",
       "      <th></th>\n",
       "    </tr>\n",
       "  </thead>\n",
       "  <tbody>\n",
       "    <tr>\n",
       "      <th>A282897</th>\n",
       "      <td>13 years</td>\n",
       "      <td>Adoption</td>\n",
       "      <td>Neutered Male</td>\n",
       "      <td>4745</td>\n",
       "      <td>13.0</td>\n",
       "      <td>(12.5, 15.0]</td>\n",
       "      <td>2015-07-11 16:49:00</td>\n",
       "      <td>7</td>\n",
       "      <td>2015</td>\n",
       "      <td>2015-07</td>\n",
       "      <td>...</td>\n",
       "      <td>13.0</td>\n",
       "      <td>(12.5, 15.0]</td>\n",
       "      <td>2015-07-06 15:06:00</td>\n",
       "      <td>7</td>\n",
       "      <td>2015</td>\n",
       "      <td>2015-07</td>\n",
       "      <td>Monday</td>\n",
       "      <td>15</td>\n",
       "      <td>5 days 01:43:00.000000000</td>\n",
       "      <td>5.071528</td>\n",
       "    </tr>\n",
       "    <tr>\n",
       "      <th>A282897</th>\n",
       "      <td>12 years</td>\n",
       "      <td>Adoption</td>\n",
       "      <td>Neutered Male</td>\n",
       "      <td>4380</td>\n",
       "      <td>12.0</td>\n",
       "      <td>(10.0, 12.5]</td>\n",
       "      <td>2013-12-28 17:05:00</td>\n",
       "      <td>12</td>\n",
       "      <td>2013</td>\n",
       "      <td>2013-12</td>\n",
       "      <td>...</td>\n",
       "      <td>12.0</td>\n",
       "      <td>(10.0, 12.5]</td>\n",
       "      <td>2013-11-21 13:45:00</td>\n",
       "      <td>11</td>\n",
       "      <td>2013</td>\n",
       "      <td>2013-11</td>\n",
       "      <td>Thursday</td>\n",
       "      <td>13</td>\n",
       "      <td>37 days 03:20:00.000000000</td>\n",
       "      <td>37.138889</td>\n",
       "    </tr>\n",
       "    <tr>\n",
       "      <th>A295822</th>\n",
       "      <td>12 years</td>\n",
       "      <td>Adoption</td>\n",
       "      <td>Spayed Female</td>\n",
       "      <td>4380</td>\n",
       "      <td>12.0</td>\n",
       "      <td>(10.0, 12.5]</td>\n",
       "      <td>2015-05-09 18:47:00</td>\n",
       "      <td>5</td>\n",
       "      <td>2015</td>\n",
       "      <td>2015-05</td>\n",
       "      <td>...</td>\n",
       "      <td>12.0</td>\n",
       "      <td>(10.0, 12.5]</td>\n",
       "      <td>2014-11-16 14:14:00</td>\n",
       "      <td>11</td>\n",
       "      <td>2014</td>\n",
       "      <td>2014-11</td>\n",
       "      <td>Sunday</td>\n",
       "      <td>14</td>\n",
       "      <td>174 days 04:33:00.000000000</td>\n",
       "      <td>174.189583</td>\n",
       "    </tr>\n",
       "    <tr>\n",
       "      <th>A304036</th>\n",
       "      <td>13 years</td>\n",
       "      <td>Adoption</td>\n",
       "      <td>Neutered Male</td>\n",
       "      <td>4745</td>\n",
       "      <td>13.0</td>\n",
       "      <td>(12.5, 15.0]</td>\n",
       "      <td>2015-06-14 16:09:00</td>\n",
       "      <td>6</td>\n",
       "      <td>2015</td>\n",
       "      <td>2015-06</td>\n",
       "      <td>...</td>\n",
       "      <td>13.0</td>\n",
       "      <td>(12.5, 15.0]</td>\n",
       "      <td>2015-06-06 14:34:00</td>\n",
       "      <td>6</td>\n",
       "      <td>2015</td>\n",
       "      <td>2015-06</td>\n",
       "      <td>Saturday</td>\n",
       "      <td>14</td>\n",
       "      <td>8 days 01:35:00.000000000</td>\n",
       "      <td>8.065972</td>\n",
       "    </tr>\n",
       "    <tr>\n",
       "      <th>A307592</th>\n",
       "      <td>12 years</td>\n",
       "      <td>Adoption</td>\n",
       "      <td>Neutered Male</td>\n",
       "      <td>4380</td>\n",
       "      <td>12.0</td>\n",
       "      <td>(10.0, 12.5]</td>\n",
       "      <td>2014-06-14 15:15:00</td>\n",
       "      <td>6</td>\n",
       "      <td>2014</td>\n",
       "      <td>2014-06</td>\n",
       "      <td>...</td>\n",
       "      <td>12.0</td>\n",
       "      <td>(10.0, 12.5]</td>\n",
       "      <td>2014-05-24 11:22:00</td>\n",
       "      <td>5</td>\n",
       "      <td>2014</td>\n",
       "      <td>2014-05</td>\n",
       "      <td>Saturday</td>\n",
       "      <td>11</td>\n",
       "      <td>21 days 03:53:00.000000000</td>\n",
       "      <td>21.161806</td>\n",
       "    </tr>\n",
       "  </tbody>\n",
       "</table>\n",
       "<p>5 rows × 31 columns</p>\n",
       "</div>"
      ],
      "text/plain": [
       "          Outcome Age Outcome Type Sex Upon Outcome  Outcome Age (days)  \\\n",
       "Animal ID                                                                 \n",
       "A282897      13 years     Adoption    Neutered Male                4745   \n",
       "A282897      12 years     Adoption    Neutered Male                4380   \n",
       "A295822      12 years     Adoption    Spayed Female                4380   \n",
       "A304036      13 years     Adoption    Neutered Male                4745   \n",
       "A307592      12 years     Adoption    Neutered Male                4380   \n",
       "\n",
       "           Outcome Age (years) Outcome Age Group     outcome_datetime  \\\n",
       "Animal ID                                                               \n",
       "A282897                   13.0      (12.5, 15.0]  2015-07-11 16:49:00   \n",
       "A282897                   12.0      (10.0, 12.5]  2013-12-28 17:05:00   \n",
       "A295822                   12.0      (10.0, 12.5]  2015-05-09 18:47:00   \n",
       "A304036                   13.0      (12.5, 15.0]  2015-06-14 16:09:00   \n",
       "A307592                   12.0      (10.0, 12.5]  2014-06-14 15:15:00   \n",
       "\n",
       "           Outcome Month  Outcome Year Outcome MY  ... Intake Age (years)  \\\n",
       "Animal ID                                          ...                      \n",
       "A282897                7          2015    2015-07  ...               13.0   \n",
       "A282897               12          2013    2013-12  ...               12.0   \n",
       "A295822                5          2015    2015-05  ...               12.0   \n",
       "A304036                6          2015    2015-06  ...               13.0   \n",
       "A307592                6          2014    2014-06  ...               12.0   \n",
       "\n",
       "           Intake Age Group      Intake DateTime Intake Month Intake Year  \\\n",
       "Animal ID                                                                   \n",
       "A282897        (12.5, 15.0]  2015-07-06 15:06:00            7        2015   \n",
       "A282897        (10.0, 12.5]  2013-11-21 13:45:00           11        2013   \n",
       "A295822        (10.0, 12.5]  2014-11-16 14:14:00           11        2014   \n",
       "A304036        (12.5, 15.0]  2015-06-06 14:34:00            6        2015   \n",
       "A307592        (10.0, 12.5]  2014-05-24 11:22:00            5        2014   \n",
       "\n",
       "          Intake MY Intake Weekday Intake Hour              Time in Shelter  \\\n",
       "Animal ID                                                                     \n",
       "A282897     2015-07         Monday          15    5 days 01:43:00.000000000   \n",
       "A282897     2013-11       Thursday          13   37 days 03:20:00.000000000   \n",
       "A295822     2014-11         Sunday          14  174 days 04:33:00.000000000   \n",
       "A304036     2015-06       Saturday          14    8 days 01:35:00.000000000   \n",
       "A307592     2014-05       Saturday          11   21 days 03:53:00.000000000   \n",
       "\n",
       "           Time in Shelter (days)  \n",
       "Animal ID                          \n",
       "A282897                  5.071528  \n",
       "A282897                 37.138889  \n",
       "A295822                174.189583  \n",
       "A304036                  8.065972  \n",
       "A307592                 21.161806  \n",
       "\n",
       "[5 rows x 31 columns]"
      ]
     },
     "execution_count": 43,
     "metadata": {},
     "output_type": "execute_result"
    }
   ],
   "source": [
    "df_cats.head()"
   ]
  },
  {
   "cell_type": "markdown",
   "metadata": {},
   "source": [
    "Let's see how the distribution of adoptions change over the years"
   ]
  },
  {
   "cell_type": "code",
   "execution_count": 44,
   "metadata": {},
   "outputs": [],
   "source": [
    "df_dog_years = df_dogs.groupby('Outcome Year')[['Count']].sum().reset_index()\n",
    "df_cat_years = df_cats.groupby('Outcome Year')[['Count']].sum().reset_index()"
   ]
  },
  {
   "cell_type": "code",
   "execution_count": 45,
   "metadata": {},
   "outputs": [
    {
     "data": {
      "text/plain": [
       "<matplotlib.legend.Legend at 0x1c2b3b38d0>"
      ]
     },
     "execution_count": 45,
     "metadata": {},
     "output_type": "execute_result"
    },
    {
     "data": {
      "image/png": "[encoded data removed]",
      "text/plain": [
       "<Figure size 1080x576 with 1 Axes>"
      ]
     },
     "metadata": {
      "needs_background": "light"
     },
     "output_type": "display_data"
    }
   ],
   "source": [
    "plt.figure(figsize=(15,8))\n",
    "sns.lineplot(x='Outcome Year', y='Count', data=df_dog_years, label='Dogs')\n",
    "sns.lineplot(x='Outcome Year', y='Count', data=df_cat_years, label='Cats')\n",
    "plt.title('Adoption Rates of Dogs and Cats from 2013-2018', fontsize=18)\n",
    "plt.xlabel('Outcome Year', fontsize=14)\n",
    "plt.ylabel('Count', fontsize=14)\n",
    "plt.legend(fontsize=14)"
   ]
  },
  {
   "cell_type": "markdown",
   "metadata": {},
   "source": [
    "We can conclude that the trend between how many dogs and cats are adopted has little to no difference\n",
    "\n",
    "The low adoption counts in 2013 and 2018 are due to lack of data for those years"
   ]
  },
  {
   "cell_type": "markdown",
   "metadata": {},
   "source": [
    "<h3> Hypothesis: older animals stay in shelter longer (one-year olds stay shortest)"
   ]
  },
  {
   "cell_type": "code",
   "execution_count": 46,
   "metadata": {},
   "outputs": [
    {
     "data": {
      "text/plain": [
       "<matplotlib.legend.Legend at 0x1c2b3f92b0>"
      ]
     },
     "execution_count": 46,
     "metadata": {},
     "output_type": "execute_result"
    },
    {
     "data": {
      "image/png": "[encoded data removed]",
      "text/plain": [
       "<Figure size 1080x576 with 1 Axes>"
      ]
     },
     "metadata": {
      "needs_background": "light"
     },
     "output_type": "display_data"
    }
   ],
   "source": [
    "plt.figure(figsize=(15,8))\n",
    "sns.scatterplot(x=df_dogs['Outcome Age (days)'], y=df_dogs['Time in Shelter (days)'], label='Dogs')\n",
    "sns.scatterplot(x=df_cats['Outcome Age (days)'], y=df_cats['Time in Shelter (days)'], label='Cats')\n",
    "plt.title('Length of Stay in Shelter of Dogs and Cats by Age', fontsize=18)\n",
    "plt.xlabel('Age of Adoption (days)', fontsize=14)\n",
    "plt.ylabel('Time in Shelter (days)', fontsize=14)\n",
    "plt.legend(fontsize=14)"
   ]
  },
  {
   "cell_type": "markdown",
   "metadata": {},
   "source": [
    "From this, it doesn't look like there's any significant difference in the length of stay in the shelter as animals get older.  For every age group, there's always dogs and cats that are adopted within a couple of days\n",
    "\n",
    "To get a better idea, lets drop rows where the length of stay are way outside of the main plot (greater than 600 days) for plotting purposes\n",
    "\n",
    "Let's look by age group"
   ]
  },
  {
   "cell_type": "code",
   "execution_count": 47,
   "metadata": {},
   "outputs": [],
   "source": [
    "df_dogs.drop(df_dogs[df_dogs['Time in Shelter (days)'] > 600].index, axis=0, inplace=True)\n",
    "df_cats.drop(df_cats[df_cats['Time in Shelter (days)'] > 600].index, axis=0, inplace=True)"
   ]
  },
  {
   "cell_type": "code",
   "execution_count": 48,
   "metadata": {},
   "outputs": [
    {
     "data": {
      "image/png": "[encoded data removed]",
      "text/plain": [
       "<Figure size 1080x576 with 1 Axes>"
      ]
     },
     "metadata": {
      "needs_background": "light"
     },
     "output_type": "display_data"
    }
   ],
   "source": [
    "plt.figure(figsize=(15,8))\n",
    "sns.boxplot(x=df_dogs['Outcome Age Group'], y=df_dogs['Time in Shelter (days)'], \n",
    "            order=['(-0.025, 2.5]', '(2.5, 5.0]', '(5.0, 7.5]', '(7.5, 10.0]', '(10.0, 12.5]',\n",
    "                  '(12.5, 15.0]', '(15.0, 17.5]', '(17.5, 20.0]'])\n",
    "plt.title('Time Spent in Shelter Before Adoption by Age Group- Dogs', fontsize=18)\n",
    "plt.xlabel('Adoption Age Group', fontsize=14)\n",
    "plt.ylabel('Time in Shelter (days)', fontsize=14)\n",
    "plt.show()"
   ]
  },
  {
   "cell_type": "markdown",
   "metadata": {},
   "source": [
    "For dogs, we can observe from the boxplot that the medians are roughly the same for all age groups.  However, the upper bound (max) increases while age increases, suggesting that older dogs are in fact more likely to stay in the shelter longer than younger ones"
   ]
  },
  {
   "cell_type": "code",
   "execution_count": 49,
   "metadata": {},
   "outputs": [
    {
     "data": {
      "image/png": "[encoded data removed]",
      "text/plain": [
       "<Figure size 1080x576 with 1 Axes>"
      ]
     },
     "metadata": {
      "needs_background": "light"
     },
     "output_type": "display_data"
    }
   ],
   "source": [
    "plt.figure(figsize=(15,8))\n",
    "sns.boxplot(x=df_cats['Outcome Age Group'], y=df_cats['Time in Shelter (days)'], \n",
    "            order=['(-0.025, 2.5]', '(2.5, 5.0]', '(5.0, 7.5]', '(7.5, 10.0]', '(10.0, 12.5]',\n",
    "                  '(12.5, 15.0]', '(15.0, 17.5]', '(17.5, 20.0]'])\n",
    "plt.title('Time Spent in Shelter Before Adoption by Age Group- Cats', fontsize=18)\n",
    "plt.xlabel('Adoption Age Group', fontsize=14)\n",
    "plt.ylabel('Time in Shelter (days)', fontsize=14)\n",
    "plt.show()"
   ]
  },
  {
   "cell_type": "markdown",
   "metadata": {},
   "source": [
    "For cats, it seems that up until age 10, there's no observable correlation between how long the animal stays in the shelter vs how old they are.  In fact, when they get to the oldest age groups, they seem to be adopted more quickly than when they were younger"
   ]
  },
  {
   "cell_type": "markdown",
   "metadata": {},
   "source": [
    "<h3> Hypothesis: light-colored animals that are fixed are adopted more quickly\n",
    "    "
   ]
  },
  {
   "cell_type": "markdown",
   "metadata": {},
   "source": [
    "As you can see, there are a LOT of colors, so let's try to standardize them.  Any animals that have any black or brown colors will stay that way, and any light colored will be white"
   ]
  },
  {
   "cell_type": "code",
   "execution_count": 50,
   "metadata": {},
   "outputs": [
    {
     "data": {
      "text/plain": [
       "array(['Black Smoke/White', 'Black', 'Brown Tabby/White',\n",
       "       'Orange Tabby/White', 'Lilac Point', 'Brown Tabby', 'Tortie',\n",
       "       'Black/White', 'Brown Tabby/Agouti', 'Blue/White', 'White',\n",
       "       'Flame Point', 'Calico', 'Seal Point', 'Black Tabby', 'Blue Cream',\n",
       "       'Black Smoke', 'White/Brown Tabby', 'Brown Tabby/Orange',\n",
       "       'Blue Tabby', 'Torbie', 'Blue Cream/Tortie', 'Calico Point',\n",
       "       'Orange Tabby', 'Blue', 'Blue Tabby/White', 'White/Orange Tabby',\n",
       "       'Lynx Point', 'Tortie Point', 'White/Gray', 'Blue Point/White',\n",
       "       'Cream Tabby', 'White/Black', 'Gray Tabby/White', 'Tortie/White',\n",
       "       'Cream Tabby/White', 'Blue Point', 'White/Blue', 'Brown Tiger',\n",
       "       'Chocolate Point', 'White/Orange', 'White/Cream',\n",
       "       'Calico/Brown Tabby', 'Silver Tabby/White',\n",
       "       'Blue Cream/Blue Tabby', 'Tortie/Blue Cream', 'Gray Tabby',\n",
       "       'Silver Tabby', 'White/Gray Tabby', 'Chocolate', 'White/Brown',\n",
       "       'Calico/Blue Cream', 'Brown/Black', 'Gray/White',\n",
       "       'Black Tabby/White', 'Seal Point/White', 'White/Cream Tabby',\n",
       "       'Gray', 'Calico Point/White', 'Torbie/White', 'Calico/White',\n",
       "       'Calico/Orange Tabby', 'Chocolate/White', 'Black/Silver',\n",
       "       'Agouti/Brown Tabby', 'Chocolate Point/White', 'Tortie/Orange',\n",
       "       'White/Black Tabby', 'Silver Tabby/Black', 'Tan',\n",
       "       'Lynx Point/White', 'Orange/White', 'Orange', 'Brown Tabby/Black',\n",
       "       'Brown Tabby/Black Brindle', 'White/Black Smoke',\n",
       "       'Lilac Point/White', 'White/Blue Tabby', 'White/Flame Point',\n",
       "       'Blue Tabby/Cream', 'Silver', 'Apricot', 'Calico/Black',\n",
       "       'Torbie/Blue Cream', 'Blue/Calico', 'Calico/Tricolor',\n",
       "       'Cream/White', 'Calico/Brown', 'Fawn', 'Cream', 'Brown',\n",
       "       'Tortie Point/White', 'Blue Smoke/White', 'Brown Tabby/Tortie',\n",
       "       'Tortie/Black Smoke', 'Blue Tabby/Tan', 'Agouti', 'Blue Smoke',\n",
       "       'Blue/Tortie', 'Blue/Orange', 'Blue Tabby/Blue Cream',\n",
       "       'White/Calico', 'Sable', 'Orange Tabby/Cream',\n",
       "       'Lynx Point/Tortie Point', 'White/Tan', 'Brown/White',\n",
       "       'Brown Tabby/Orange Tabby', 'Orange Tabby/Brown',\n",
       "       'White/Lynx Point', 'White/White', 'Black/Black',\n",
       "       'Flame Point/White', 'Lynx Point/Tan', 'Yellow/Orange',\n",
       "       'Black/Brown Tabby', 'Cream Tabby/Cream Tabby',\n",
       "       'Tortie/Blue Tabby', 'Orange Tabby/Orange', 'Calico/Calico',\n",
       "       'Blue/Blue', 'Silver Lynx Point', 'Cream/Seal Point',\n",
       "       'Gray/Tortie', 'Silver Lynx Point/Gray', 'Tortie/Black',\n",
       "       'White/Calico Point', 'Brown Tabby/Cream', 'Brown Tabby/Brown',\n",
       "       'Yellow/Cream', 'Blue Smoke/Gray', 'Cream/Orange',\n",
       "       'Brown Tiger/White', 'Black/Orange', 'White/Lilac Point',\n",
       "       'Black/Gray', 'White/Red', 'Tortie/Tortie', 'White/Seal Point',\n",
       "       'Cream/Blue Point', 'Lynx Point/Blue', 'Torbie/Blue Tabby',\n",
       "       'Torbie/Black', 'Blue Tabby/Black', 'Gray Tabby/Orange',\n",
       "       'Gray Tabby/Black', 'Blue Point/Cream', 'White/Brown Brindle',\n",
       "       'Gray/Gray', 'Tortie Point/Blue', 'Cream Tabby/Orange Tabby',\n",
       "       'Silver Lynx Point/White'], dtype=object)"
      ]
     },
     "execution_count": 50,
     "metadata": {},
     "output_type": "execute_result"
    }
   ],
   "source": [
    "df_cats['Color'].unique()"
   ]
  },
  {
   "cell_type": "code",
   "execution_count": 51,
   "metadata": {},
   "outputs": [
    {
     "data": {
      "text/plain": [
       "array(['Black/Tan', 'Tan/Black', 'Sable/White', 'Black/Brown', 'Tricolor',\n",
       "       'Black/Brown Brindle', 'Brown', 'Black/White', 'Brown/Black',\n",
       "       'Tan', 'Black', 'Blue', 'Brown/White', 'Red/Black', 'White/Tan',\n",
       "       'White/Brown', 'White/Brown Merle', 'White/Gray',\n",
       "       'Blue Tick/Brown', 'Chocolate', 'White/Tricolor', 'Tan/Buff',\n",
       "       'Chocolate/White', 'Red/White', 'Brown Brindle/White',\n",
       "       'Black Brindle/White', 'Cream/Black', 'White', 'Sable',\n",
       "       'Tan/White', 'Buff', 'Buff/White', 'Gold', 'Black/Tricolor',\n",
       "       'White/Black', 'White/Red Merle', 'Blue/White', 'Gray/Black',\n",
       "       'Brown Brindle', 'White/Chocolate', 'Blue Merle', 'Red',\n",
       "       'Chocolate/Tan', 'Cream/White', 'Brown Brindle/Tan',\n",
       "       'White/Brown Brindle', 'White/Buff', 'Brown/Tan', 'Cream/Yellow',\n",
       "       'Gray/White', 'Gray/Gold', 'Fawn/White', 'Black Tiger/White',\n",
       "       'Red Tick/Red', 'Yellow', 'Brown Merle/White', 'Black Brindle',\n",
       "       'Gray', 'Black Smoke/White', 'Cream', 'Blue Tiger/White',\n",
       "       'Brown/Red Tick', 'Yellow Brindle/White', 'White/Red',\n",
       "       'Blue Merle/Tan', 'Brown/Brown Brindle', 'Gray/Tricolor',\n",
       "       'Apricot', 'White/Apricot', 'Red/Tan', 'Blue Merle/White',\n",
       "       'Silver/Tan', 'Red Merle', 'Gold/Brown', 'Tan/Tan', 'Black/Orange',\n",
       "       'Gray/Cream', 'White/Brown Tiger', 'Fawn', 'Yellow/White',\n",
       "       'Black/Red', 'White/Blue Cream', 'Red/Brown', 'Cream/Gray',\n",
       "       'Red Merle/White', 'Brown Merle', 'Brown/Tricolor', 'Brown/Red',\n",
       "       'Fawn/Black', 'Silver/Black', 'Gold/White', 'Red Tick',\n",
       "       'White/Cream', 'Sable/Tan', 'Sable/Black', 'Black/Black Brindle',\n",
       "       'Tan/Cream', 'Blue Merle/Cream', 'Gray/Tan', 'Chocolate/Tricolor',\n",
       "       'White/Blue', 'White/Red Tick', 'Blue Tick/Black', 'White/Orange',\n",
       "       'Black/Gray', 'Blue Merle/Brown', 'Blue Merle/Black',\n",
       "       'Black/Silver', 'Red Tick/Tan', 'Red Tick/Brown Merle', 'Silver',\n",
       "       'Apricot/White', 'Brown Brindle/Blue Cream', 'Red/Tricolor',\n",
       "       'Red Merle/Black', 'Blue Tick/White', 'Blue Tick',\n",
       "       'Black/Blue Merle', 'Liver/White', 'Gray/Brown', 'Tan/Brown',\n",
       "       'White/Yellow Brindle', 'White/Black Brindle', 'Tan/Gray',\n",
       "       'Sable/Red Merle', 'Blue/Brown Brindle', 'Blue Merle/Tricolor',\n",
       "       'Blue Tick/Tan', 'Black Brindle/Brown', 'Black/Cream', 'Cream/Red',\n",
       "       'White/White', 'Ruddy/Cream', 'White/Silver', 'Red Tick/White',\n",
       "       'Red/Cream', 'Chocolate/Brown', 'Brown/Red Merle', 'Blue/Tricolor',\n",
       "       'Brown Merle/Black', 'Blue/Tan', 'Tricolor/White', 'Tricolor/Tan',\n",
       "       'Black Smoke/Black', 'Buff/Black', 'Black Smoke', 'Brown/Gray',\n",
       "       'Black/Buff', 'Sable/Brown', 'Yellow Brindle', 'Buff/Tan',\n",
       "       'Gold/Yellow', 'Blue Tick/Red Tick', 'Red/Red Merle',\n",
       "       'Red/Red Tick', 'Blue Merle/Red', 'Red Tick/Black', 'Tan/Tricolor',\n",
       "       'Gold/Black', 'Tan/Red', 'Tricolor/Brown', 'Buff/Brown',\n",
       "       'White/Liver', 'Brown/Silver', 'Blue Merle/Red Merle',\n",
       "       'Buff/Yellow', 'Red/Silver', 'Fawn/Brown', 'Red Tick/Brown',\n",
       "       'Fawn/Brown Brindle', 'Chocolate/Brown Brindle', 'White/Pink',\n",
       "       'Chocolate/Red Tick', 'Cream/Red Tick', 'Cream/Tan',\n",
       "       'Chocolate/Cream', 'Black/Blue Tick', 'Fawn/Blue', 'Brown/Cream',\n",
       "       'Tan/Silver', 'Orange/Tan', 'Yellow Brindle/Blue', 'Blue Tick/Red',\n",
       "       'Blue/Black', 'Fawn/Tan', 'Black/Yellow Brindle',\n",
       "       'Brown Brindle/Black', 'Tricolor/Black', 'Blue/Cream', 'Gold/Tan',\n",
       "       'Blue Merle/Blue Merle', 'Chocolate/Black', 'Brown Tiger/White',\n",
       "       'Tricolor/Blue', 'Blue Merle/Brown Brindle', 'Silver/Brown',\n",
       "       'Silver/White', 'Liver Tick', 'Brown Brindle/Brown Brindle',\n",
       "       'Brown Brindle/Red Tick', 'Liver', 'Sable/Red', 'Chocolate/Gold',\n",
       "       'Brown/Chocolate', 'Silver/Chocolate', 'Blue/Yellow Brindle',\n",
       "       'Gray/Red', 'Gray/Buff', 'Fawn/Chocolate', 'Tan/Blue', 'Fawn/Gray',\n",
       "       'Blue Tiger', 'Gold/Cream', 'Red/Red', 'Liver/Tan',\n",
       "       'Brown Brindle/Blue Tick', 'Brown/Buff', 'Brown Merle/Blue Merle',\n",
       "       'Tan/Red Tick', 'Sable/Buff', 'Black/Yellow', 'Silver/Cream',\n",
       "       'Sable/Gray', 'Cream/Brown', 'Tricolor/Brown Merle', 'Brown Tiger',\n",
       "       'Silver/Gray', 'Brown Merle/Tan', 'Sable/Cream', 'Black/Black',\n",
       "       'Brown Brindle/Brown', 'White/Yellow', 'Brown/Yellow',\n",
       "       'Chocolate/Yellow', 'Blue/Brown', 'White/Blue Tick',\n",
       "       'Cream/Silver', 'White/Blue Merle', 'Black Smoke/Blue Tick',\n",
       "       'Gold/Gold', 'Brown/Brown', 'White/Black Smoke',\n",
       "       'Tricolor/Brown Brindle', 'Black Brindle/Black', 'Tan/Yellow',\n",
       "       'Red/Yellow', 'Blue/Gray', 'Yellow/Cream', 'White/Fawn', 'Agouti',\n",
       "       'Blue Cream/White', 'Yellow/Tan', 'Brown Tiger/Brown', 'Buff/Gray',\n",
       "       'Red Tick/Brown Brindle', 'Black/Blue', 'Brown Merle/Brown',\n",
       "       'Gold/Gray'], dtype=object)"
      ]
     },
     "execution_count": 51,
     "metadata": {},
     "output_type": "execute_result"
    }
   ],
   "source": [
    "df_dogs['Color'].unique()"
   ]
  },
  {
   "cell_type": "code",
   "execution_count": 52,
   "metadata": {},
   "outputs": [],
   "source": [
    "def standardize_color(string):\n",
    "    string = string.lower()\n",
    "    string = string.strip()\n",
    "    \n",
    "    if 'black' in string:\n",
    "        output = 'Black'\n",
    "    elif 'brown' in string or 'liver' in string or 'chocolate' in string or 'buff' in string or 'agouti' in string or 'sable' in string:\n",
    "        output = 'Brown'\n",
    "    elif 'gray'in string:\n",
    "        output = 'Gray'\n",
    "    elif 'tri' in string:\n",
    "        output = 'Tricolor'\n",
    "    elif 'blue' in string:\n",
    "        output = 'Blue'\n",
    "    elif 'red' in string:\n",
    "        output = 'Red'\n",
    "    elif 'white' in string:\n",
    "        output = 'White'\n",
    "    elif 'gold' in string:\n",
    "        output = 'Gold'\n",
    "    elif 'tan' in string or 'fawn' in string:\n",
    "        output = 'Tan'\n",
    "    elif 'yellow' in string or 'cream' in string or 'apricot' in string:\n",
    "        output = 'Yellow'\n",
    "    #specifically for cats\n",
    "    elif 'calico' in string:\n",
    "        output = 'Calico'\n",
    "    elif 'orange' in string:\n",
    "        output = 'Orange'\n",
    "    elif 'tortie' in string or 'torbie' in string:\n",
    "        output = 'White'\n",
    "    elif 'point' in string:\n",
    "        output = 'White'\n",
    "    elif 'silver' in string:\n",
    "        output = 'Silver'\n",
    "    else:\n",
    "        output = string\n",
    "    \n",
    "    return output\n",
    "    "
   ]
  },
  {
   "cell_type": "code",
   "execution_count": 53,
   "metadata": {},
   "outputs": [
    {
     "name": "stderr",
     "output_type": "stream",
     "text": [
      "//anaconda3/lib/python3.7/site-packages/ipykernel_launcher.py:1: SettingWithCopyWarning: \n",
      "A value is trying to be set on a copy of a slice from a DataFrame.\n",
      "Try using .loc[row_indexer,col_indexer] = value instead\n",
      "\n",
      "See the caveats in the documentation: http://pandas.pydata.org/pandas-docs/stable/user_guide/indexing.html#returning-a-view-versus-a-copy\n",
      "  \"\"\"Entry point for launching an IPython kernel.\n",
      "//anaconda3/lib/python3.7/site-packages/ipykernel_launcher.py:2: SettingWithCopyWarning: \n",
      "A value is trying to be set on a copy of a slice from a DataFrame.\n",
      "Try using .loc[row_indexer,col_indexer] = value instead\n",
      "\n",
      "See the caveats in the documentation: http://pandas.pydata.org/pandas-docs/stable/user_guide/indexing.html#returning-a-view-versus-a-copy\n",
      "  \n"
     ]
    }
   ],
   "source": [
    "df_dogs['Color'] = df_dogs['Color'].apply(standardize_color)\n",
    "df_cats['Color'] = df_cats['Color'].apply(standardize_color)"
   ]
  },
  {
   "cell_type": "code",
   "execution_count": 54,
   "metadata": {},
   "outputs": [
    {
     "data": {
      "text/plain": [
       "array(['Black', 'Brown', 'Tricolor', 'Tan', 'Blue', 'White', 'Gray',\n",
       "       'Red', 'Gold', 'Yellow', 'Silver'], dtype=object)"
      ]
     },
     "execution_count": 54,
     "metadata": {},
     "output_type": "execute_result"
    }
   ],
   "source": [
    "df_dogs['Color'].unique()"
   ]
  },
  {
   "cell_type": "code",
   "execution_count": 55,
   "metadata": {},
   "outputs": [
    {
     "data": {
      "text/plain": [
       "array(['Black', 'Brown', 'White', 'Blue', 'Calico', 'Orange', 'Gray',\n",
       "       'Yellow', 'Silver', 'Tan', 'Tricolor', 'Red'], dtype=object)"
      ]
     },
     "execution_count": 55,
     "metadata": {},
     "output_type": "execute_result"
    }
   ],
   "source": [
    "df_cats['Color'].unique()"
   ]
  },
  {
   "cell_type": "markdown",
   "metadata": {},
   "source": [
    "Let's see how color correlates with age group for dogs and cats using heatmaps:"
   ]
  },
  {
   "cell_type": "code",
   "execution_count": 56,
   "metadata": {},
   "outputs": [
    {
     "name": "stdout",
     "output_type": "stream",
     "text": [
      "Pivot Table for Dogs:                    Time in Shelter (days)                                    \\\n",
      "Color                              Black        Blue      Brown       Gold   \n",
      "Outcome Age Group                                                            \n",
      "(-0.025, 2.5]                  17.504699   26.343292  21.602324  12.282841   \n",
      "(2.5, 5.0]                     36.324773   59.458001  39.007751  15.628993   \n",
      "(5.0, 7.5]                     39.161617   45.777469  49.329072   6.567014   \n",
      "(7.5, 10.0]                    50.961290   49.407557  54.371867  67.914236   \n",
      "(10.0, 12.5]                   46.037987  180.362847  77.710595        NaN   \n",
      "(12.5, 15.0]                   84.488278         NaN  79.544599        NaN   \n",
      "(15.0, 17.5]                   28.907639         NaN   1.895139        NaN   \n",
      "(17.5, 20.0]                         NaN         NaN        NaN        NaN   \n",
      "\n",
      "                                                                         \\\n",
      "Color                   Gray        Red    Silver        Tan   Tricolor   \n",
      "Outcome Age Group                                                         \n",
      "(-0.025, 2.5]      11.842308  20.191999  4.181076  17.574346  13.133376   \n",
      "(2.5, 5.0]         16.743409  30.442708  4.067361  33.190994  18.801022   \n",
      "(5.0, 7.5]          5.801794  44.508430       NaN  30.341197  19.955491   \n",
      "(7.5, 10.0]        47.698184  65.597651  8.069444  28.379051  50.523134   \n",
      "(10.0, 12.5]       32.293403  36.966181       NaN  30.052865  24.784259   \n",
      "(12.5, 15.0]       12.689236  21.684201       NaN   5.932500  52.979167   \n",
      "(15.0, 17.5]             NaN        NaN       NaN   4.008333        NaN   \n",
      "(17.5, 20.0]             NaN        NaN       NaN   4.081944        NaN   \n",
      "\n",
      "                                          \n",
      "Color                   White     Yellow  \n",
      "Outcome Age Group                         \n",
      "(-0.025, 2.5]       18.729034  14.690936  \n",
      "(2.5, 5.0]          33.675000  12.537010  \n",
      "(5.0, 7.5]          39.507602  31.023929  \n",
      "(7.5, 10.0]         31.818116  40.137233  \n",
      "(10.0, 12.5]        28.052500  13.393519  \n",
      "(12.5, 15.0]        40.175417  36.373611  \n",
      "(15.0, 17.5]       389.091667        NaN  \n",
      "(17.5, 20.0]              NaN        NaN  \n",
      "Pivot Table for Cats:                    Time in Shelter (days)                                   \\\n",
      "Color                              Black       Blue      Brown     Calico   \n",
      "Outcome Age Group                                                           \n",
      "(-0.025, 2.5]                  39.175578  33.358862  33.401912  32.190862   \n",
      "(2.5, 5.0]                     52.835957  46.955567  41.221640  24.635082   \n",
      "(5.0, 7.5]                     50.139056  71.756778  52.729545  21.027841   \n",
      "(7.5, 10.0]                    60.272076  51.340946  49.312855  52.318670   \n",
      "(10.0, 12.5]                  100.129365  52.987804  79.895862  84.531771   \n",
      "(12.5, 15.0]                   49.575694  38.931163  83.430529  87.703671   \n",
      "(15.0, 17.5]                   15.859722   2.141667  56.643287  32.012153   \n",
      "(17.5, 20.0]                    4.018056        NaN        NaN        NaN   \n",
      "\n",
      "                                                                           \\\n",
      "Color                   Gray      Orange        Red     Silver        Tan   \n",
      "Outcome Age Group                                                           \n",
      "(-0.025, 2.5]      17.979278   34.354608        NaN  33.874142  27.251042   \n",
      "(2.5, 5.0]         27.541982   36.046174        NaN   6.155208        NaN   \n",
      "(5.0, 7.5]          6.113889   64.488750        NaN   3.155556  10.198611   \n",
      "(7.5, 10.0]        27.719306   45.088911  43.913889  84.584028        NaN   \n",
      "(10.0, 12.5]       13.566319  133.795139        NaN        NaN        NaN   \n",
      "(12.5, 15.0]             NaN   35.954167        NaN  16.702778        NaN   \n",
      "(15.0, 17.5]             NaN         NaN        NaN        NaN        NaN   \n",
      "(17.5, 20.0]             NaN   45.064583        NaN        NaN        NaN   \n",
      "\n",
      "                                                   \n",
      "Color              Tricolor      White     Yellow  \n",
      "Outcome Age Group                                  \n",
      "(-0.025, 2.5]      5.961806  33.035776  31.291296  \n",
      "(2.5, 5.0]              NaN  39.775147  51.772222  \n",
      "(5.0, 7.5]              NaN  51.655192  62.939410  \n",
      "(7.5, 10.0]             NaN  43.706325  35.701273  \n",
      "(10.0, 12.5]            NaN  62.980481        NaN  \n",
      "(12.5, 15.0]            NaN  61.788160        NaN  \n",
      "(15.0, 17.5]            NaN  19.448785        NaN  \n",
      "(17.5, 20.0]            NaN        NaN        NaN  \n"
     ]
    }
   ],
   "source": [
    "#make pivot tables with dogs and cats\n",
    "df_d = df_dogs[['Color', 'Outcome Age Group', 'Time in Shelter (days)']]\n",
    "df_d = df_d.groupby(['Color', 'Outcome Age Group'], as_index=False).mean()\n",
    "dog_pivot = df_d.pivot(index='Outcome Age Group', columns='Color')\n",
    "\n",
    "df_c = df_cats[['Color', 'Outcome Age Group', 'Time in Shelter (days)']]\n",
    "df_c = df_c.groupby(['Color', 'Outcome Age Group'], as_index=False).mean()\n",
    "cat_pivot = df_c.pivot(index='Outcome Age Group', columns='Color')\n",
    "\n",
    "#make the age groups in order\n",
    "dog_pivot = dog_pivot.reindex(['(-0.025, 2.5]', '(2.5, 5.0]', '(5.0, 7.5]', '(7.5, 10.0]', '(10.0, 12.5]',\n",
    "                               '(12.5, 15.0]', '(15.0, 17.5]', '(17.5, 20.0]'], axis=0)\n",
    "cat_pivot = cat_pivot.reindex(['(-0.025, 2.5]', '(2.5, 5.0]', '(5.0, 7.5]', '(7.5, 10.0]', '(10.0, 12.5]',\n",
    "                               '(12.5, 15.0]', '(15.0, 17.5]', '(17.5, 20.0]'], axis=0)\n",
    "\n",
    "print('Pivot Table for Dogs: ', dog_pivot)\n",
    "print('Pivot Table for Cats: ', cat_pivot)"
   ]
  },
  {
   "cell_type": "code",
   "execution_count": 57,
   "metadata": {},
   "outputs": [
    {
     "data": {
      "image/png": "[encoded data removed]",
      "text/plain": [
       "<Figure size 720x720 with 4 Axes>"
      ]
     },
     "metadata": {
      "needs_background": "light"
     },
     "output_type": "display_data"
    }
   ],
   "source": [
    "#make heatmaps\n",
    "fig, (ax0, ax1) = plt.subplots(2,1, figsize=(10,10))\n",
    "row_labels = dog_pivot.columns.levels[1]\n",
    "col_labels = dog_pivot.index\n",
    "\n",
    "d = ax0.pcolor(dog_pivot, cmap='PuBuGn')\n",
    "ax0.set_xticks(np.arange(dog_pivot.shape[1]) + 0.5, minor=False)\n",
    "ax0.set_yticks(np.arange(dog_pivot.shape[0]) + 0.5, minor=False)\n",
    "\n",
    "ax0.set_xticklabels(row_labels, minor=False)\n",
    "ax0.set_yticklabels(col_labels, minor=False)\n",
    "\n",
    "ax0.set_title('Dogs Age Group with Color', fontsize=18)\n",
    "ax0.set_xlabel('Color', fontsize=14)\n",
    "ax0.set_ylabel('Age Group', fontsize=14)\n",
    "\n",
    "fig.colorbar(d, ax=ax0, label='Time in Shelter (days)')\n",
    "\n",
    "\n",
    "c = ax1.pcolor(cat_pivot, cmap='PuBuGn')\n",
    "row_labels = cat_pivot.columns.levels[1]\n",
    "col_labels = cat_pivot.index\n",
    "\n",
    "ax1.set_xticks(np.arange(cat_pivot.shape[1]) + 0.5, minor=False)\n",
    "ax1.set_yticks(np.arange(cat_pivot.shape[0]) + 0.5, minor=False)\n",
    "\n",
    "ax1.set_xticklabels(row_labels, minor=False)\n",
    "ax1.set_yticklabels(col_labels, minor=False)\n",
    "\n",
    "ax1.set_title('Cats Age Group with Color', fontsize=18)\n",
    "ax1.set_xlabel('Color', fontsize=14)\n",
    "ax1.set_ylabel('Age Group', fontsize=14)\n",
    "\n",
    "fig.colorbar(c, ax=ax1, label='Time in Shelter (days)')\n",
    "\n",
    "fig.tight_layout()\n",
    "plt.show()"
   ]
  },
  {
   "cell_type": "markdown",
   "metadata": {},
   "source": [
    "From these heatmaps, we can see that as age increases, length of stay increases for both cats and dogs.  For both cats and dogs, the length of stay is slightly shorter for lighter colors (white, yellow, tan, silver), suggesting that our hypothesis that lighter colored animals are adopted more quickly"
   ]
  },
  {
   "cell_type": "markdown",
   "metadata": {},
   "source": [
    "<h2> Hypothesis: Animals that are fixed have shorter length of stay in shelter"
   ]
  },
  {
   "cell_type": "markdown",
   "metadata": {},
   "source": [
    "Now let's view the values of whether the dogs and cats are fixed (Sex upon outcome)"
   ]
  },
  {
   "cell_type": "code",
   "execution_count": 58,
   "metadata": {},
   "outputs": [
    {
     "name": "stdout",
     "output_type": "stream",
     "text": [
      "Dogs Sex Upon Outcome:\n",
      " Neutered Male    10217\n",
      "Spayed Female     9702\n",
      "Intact Female      281\n",
      "Intact Male        267\n",
      "Name: Sex Upon Outcome, dtype: int64\n",
      "Cats Sex Upon Outcome:\n",
      " Spayed Female    6048\n",
      "Neutered Male    5785\n",
      "Intact Female     439\n",
      "Intact Male       308\n",
      "Unknown             1\n",
      "Name: Sex Upon Outcome, dtype: int64\n"
     ]
    }
   ],
   "source": [
    "print('Dogs Sex Upon Outcome:\\n', df_dogs['Sex Upon Outcome'].value_counts())\n",
    "print('Cats Sex Upon Outcome:\\n', df_cats['Sex Upon Outcome'].value_counts())"
   ]
  },
  {
   "cell_type": "markdown",
   "metadata": {},
   "source": [
    "Let's drop the unknown row from cats"
   ]
  },
  {
   "cell_type": "code",
   "execution_count": 59,
   "metadata": {},
   "outputs": [
    {
     "name": "stderr",
     "output_type": "stream",
     "text": [
      "//anaconda3/lib/python3.7/site-packages/pandas/core/frame.py:4117: SettingWithCopyWarning: \n",
      "A value is trying to be set on a copy of a slice from a DataFrame\n",
      "\n",
      "See the caveats in the documentation: http://pandas.pydata.org/pandas-docs/stable/user_guide/indexing.html#returning-a-view-versus-a-copy\n",
      "  errors=errors,\n"
     ]
    }
   ],
   "source": [
    "df_cats.drop(df_cats[df_cats['Sex Upon Outcome'] == 'Unknown'].index, axis=0, inplace=True)"
   ]
  },
  {
   "cell_type": "code",
   "execution_count": 60,
   "metadata": {},
   "outputs": [
    {
     "name": "stdout",
     "output_type": "stream",
     "text": [
      "Dogs Sex Upon Outcome:\n",
      " Neutered Male    10217\n",
      "Spayed Female     9702\n",
      "Intact Female      281\n",
      "Intact Male        267\n",
      "Name: Sex Upon Outcome, dtype: int64\n",
      "Cats Sex Upon Outcome:\n",
      " Spayed Female    6048\n",
      "Neutered Male    5785\n",
      "Intact Female     439\n",
      "Intact Male       308\n",
      "Name: Sex Upon Outcome, dtype: int64\n"
     ]
    }
   ],
   "source": [
    "print('Dogs Sex Upon Outcome:\\n', df_dogs['Sex Upon Outcome'].value_counts())\n",
    "print('Cats Sex Upon Outcome:\\n', df_cats['Sex Upon Outcome'].value_counts())"
   ]
  },
  {
   "cell_type": "markdown",
   "metadata": {},
   "source": [
    "Let's use heatmaps to see the correlations between Color and Sex Upon Outcome, and how they impact Length of Stay in shlether before adoption!"
   ]
  },
  {
   "cell_type": "code",
   "execution_count": 61,
   "metadata": {},
   "outputs": [
    {
     "name": "stdout",
     "output_type": "stream",
     "text": [
      "Pivot Table for Dogs:                   Time in Shelter (days)                                   \\\n",
      "Color                             Black       Blue      Brown       Gold   \n",
      "Sex Upon Outcome                                                           \n",
      "Intact Female                 14.544488  11.605351   9.668618        NaN   \n",
      "Intact Male                   11.381123  15.869444  21.648559  16.957639   \n",
      "Neutered Male                 22.569422  34.651469  28.218159  12.275862   \n",
      "Spayed Female                 22.983098  34.037441  25.945061  24.365432   \n",
      "\n",
      "                                                                        \\\n",
      "Color                  Gray        Red    Silver        Tan   Tricolor   \n",
      "Sex Upon Outcome                                                         \n",
      "Intact Female      0.480208  16.193109       NaN  18.076111  20.996732   \n",
      "Intact Male       13.652431   5.971875       NaN  11.365389  11.867431   \n",
      "Neutered Male     15.509158  27.076024  3.154514  20.987202  15.425960   \n",
      "Spayed Female     15.717167  23.883894  5.638021  20.945637  16.600157   \n",
      "\n",
      "                                        \n",
      "Color                 White     Yellow  \n",
      "Sex Upon Outcome                        \n",
      "Intact Female     10.039686  23.142882  \n",
      "Intact Male        8.354147  28.387616  \n",
      "Neutered Male     22.676904  18.304751  \n",
      "Spayed Female     23.684676  15.944234  \n",
      "Pivot Table for Cats:                   Time in Shelter (days)                                   \\\n",
      "Color                             Black       Blue      Brown     Calico   \n",
      "Sex Upon Outcome                                                           \n",
      "Intact Female                 24.348785  22.179261  18.686203  11.192887   \n",
      "Intact Male                   19.417575  21.246774  24.901875        NaN   \n",
      "Neutered Male                 40.031631  37.283379  33.956604  54.953472   \n",
      "Spayed Female                 44.760864  37.216853  38.577602  34.109059   \n",
      "\n",
      "                                                                         \\\n",
      "Color                  Gray     Orange        Red     Silver        Tan   \n",
      "Sex Upon Outcome                                                          \n",
      "Intact Female     50.015972  31.304051        NaN        NaN        NaN   \n",
      "Intact Male       18.972917  20.922579        NaN        NaN        NaN   \n",
      "Neutered Male     17.590612  33.874209  43.913889  28.275694  21.566898   \n",
      "Spayed Female     20.732828  47.479266        NaN  39.804028        NaN   \n",
      "\n",
      "                                                  \n",
      "Color             Tricolor      White     Yellow  \n",
      "Sex Upon Outcome                                  \n",
      "Intact Female          NaN  22.415309   8.073169  \n",
      "Intact Male            NaN  19.438889  25.470353  \n",
      "Neutered Male          NaN  33.425250  31.640111  \n",
      "Spayed Female     5.961806  36.995239  42.879016  \n"
     ]
    }
   ],
   "source": [
    "#make pivot tables with dogs and cats\n",
    "df_d2 = df_dogs[['Color', 'Sex Upon Outcome', 'Time in Shelter (days)']]\n",
    "df_d2 = df_d2.groupby(['Color', 'Sex Upon Outcome'], as_index=False).mean()\n",
    "dog_pivot2 = df_d2.pivot(index='Sex Upon Outcome', columns='Color')\n",
    "\n",
    "df_c2 = df_cats[['Color', 'Sex Upon Outcome', 'Time in Shelter (days)']]\n",
    "df_c2 = df_c2.groupby(['Color', 'Sex Upon Outcome'], as_index=False).mean()\n",
    "cat_pivot2 = df_c2.pivot(index='Sex Upon Outcome', columns='Color')\n",
    "\n",
    "print('Pivot Table for Dogs: ', dog_pivot2)\n",
    "print('Pivot Table for Cats: ', cat_pivot2)"
   ]
  },
  {
   "cell_type": "code",
   "execution_count": 62,
   "metadata": {},
   "outputs": [
    {
     "data": {
      "image/png": "[encoded data removed]",
      "text/plain": [
       "<Figure size 720x720 with 4 Axes>"
      ]
     },
     "metadata": {
      "needs_background": "light"
     },
     "output_type": "display_data"
    }
   ],
   "source": [
    "#make heatmaps\n",
    "fig, (ax0, ax1) = plt.subplots(2,1, figsize=(10,10))\n",
    "row_labels = dog_pivot2.columns.levels[1]\n",
    "col_labels = dog_pivot2.index\n",
    "\n",
    "d = ax0.pcolor(dog_pivot2, cmap='coolwarm')\n",
    "ax0.set_xticks(np.arange(dog_pivot2.shape[1]) + 0.5, minor=False)\n",
    "ax0.set_yticks(np.arange(dog_pivot2.shape[0]) + 0.5, minor=False)\n",
    "\n",
    "ax0.set_xticklabels(row_labels, minor=False)\n",
    "ax0.set_yticklabels(col_labels, minor=False)\n",
    "\n",
    "ax0.set_title('Dogs Fixed/Not Fixed with Color', fontsize=18)\n",
    "ax0.set_xlabel('Color', fontsize=14)\n",
    "ax0.set_ylabel('Fixed Status', fontsize=14)\n",
    "\n",
    "fig.colorbar(d, ax=ax0, label='Time in Shelter (days)')\n",
    "\n",
    "\n",
    "c = ax1.pcolor(cat_pivot2, cmap='coolwarm')\n",
    "row_labels = cat_pivot2.columns.levels[1]\n",
    "col_labels = cat_pivot2.index\n",
    "\n",
    "ax1.set_xticks(np.arange(cat_pivot2.shape[1]) + 0.5, minor=False)\n",
    "ax1.set_yticks(np.arange(cat_pivot2.shape[0]) + 0.5, minor=False)\n",
    "\n",
    "ax1.set_xticklabels(row_labels, minor=False)\n",
    "ax1.set_yticklabels(col_labels, minor=False)\n",
    "\n",
    "ax1.set_title('Cats Fixed/Not Fixed with Color', fontsize=18)\n",
    "ax1.set_xlabel('Color', fontsize=14)\n",
    "ax1.set_ylabel('Fixed Status', fontsize=14)\n",
    "\n",
    "fig.colorbar(c, ax=ax1, label='Time in Shelter (days)')\n",
    "\n",
    "fig.tight_layout()\n",
    "plt.show()"
   ]
  },
  {
   "cell_type": "markdown",
   "metadata": {},
   "source": [
    "Surprisingly, these show that for both dogs and cats, it seems as though intact animals are adopted more quickly than fixed animals, while there's also a trend that lighter-colored animals are adopted more quickly than darker colored animals as well, supporting our hypothesis\n"
   ]
  },
  {
   "cell_type": "markdown",
   "metadata": {},
   "source": [
    "<h1> Dataset 2"
   ]
  },
  {
   "cell_type": "markdown",
   "metadata": {},
   "source": [
    "<h4> Now, since we also want to look at whether animals with names are more likely to be adopted, we are looking at the second dataset that contains information of animals that left the shelter with additional information about animal's names."
   ]
  },
  {
   "cell_type": "code",
   "execution_count": 63,
   "metadata": {},
   "outputs": [
    {
     "data": {
      "text/html": [
       "<div>\n",
       "<style scoped>\n",
       "    .dataframe tbody tr th:only-of-type {\n",
       "        vertical-align: middle;\n",
       "    }\n",
       "\n",
       "    .dataframe tbody tr th {\n",
       "        vertical-align: top;\n",
       "    }\n",
       "\n",
       "    .dataframe thead th {\n",
       "        text-align: right;\n",
       "    }\n",
       "</style>\n",
       "<table border=\"1\" class=\"dataframe\">\n",
       "  <thead>\n",
       "    <tr style=\"text-align: right;\">\n",
       "      <th></th>\n",
       "      <th>Animal ID</th>\n",
       "      <th>Name</th>\n",
       "      <th>DateTime</th>\n",
       "      <th>MonthYear</th>\n",
       "      <th>Date of Birth</th>\n",
       "      <th>Outcome Type</th>\n",
       "      <th>Outcome Subtype</th>\n",
       "      <th>Animal Type</th>\n",
       "      <th>Sex upon Outcome</th>\n",
       "      <th>Age upon Outcome</th>\n",
       "      <th>Breed</th>\n",
       "      <th>Color</th>\n",
       "    </tr>\n",
       "  </thead>\n",
       "  <tbody>\n",
       "    <tr>\n",
       "      <th>0</th>\n",
       "      <td>A720371</td>\n",
       "      <td>Moose</td>\n",
       "      <td>02/13/2016 05:59:00 PM</td>\n",
       "      <td>02/13/2016 05:59:00 PM</td>\n",
       "      <td>10/08/2015</td>\n",
       "      <td>Adoption</td>\n",
       "      <td>NaN</td>\n",
       "      <td>Dog</td>\n",
       "      <td>Neutered Male</td>\n",
       "      <td>4 months</td>\n",
       "      <td>Anatol Shepherd/Labrador Retriever</td>\n",
       "      <td>Buff</td>\n",
       "    </tr>\n",
       "    <tr>\n",
       "      <th>1</th>\n",
       "      <td>A674754</td>\n",
       "      <td>NaN</td>\n",
       "      <td>03/18/2014 11:47:00 AM</td>\n",
       "      <td>03/18/2014 11:47:00 AM</td>\n",
       "      <td>03/12/2014</td>\n",
       "      <td>Transfer</td>\n",
       "      <td>Partner</td>\n",
       "      <td>Cat</td>\n",
       "      <td>Intact Male</td>\n",
       "      <td>6 days</td>\n",
       "      <td>Domestic Shorthair Mix</td>\n",
       "      <td>Orange Tabby</td>\n",
       "    </tr>\n",
       "    <tr>\n",
       "      <th>2</th>\n",
       "      <td>A689724</td>\n",
       "      <td>*Donatello</td>\n",
       "      <td>10/18/2014 06:52:00 PM</td>\n",
       "      <td>10/18/2014 06:52:00 PM</td>\n",
       "      <td>08/01/2014</td>\n",
       "      <td>Adoption</td>\n",
       "      <td>NaN</td>\n",
       "      <td>Cat</td>\n",
       "      <td>Neutered Male</td>\n",
       "      <td>2 months</td>\n",
       "      <td>Domestic Shorthair Mix</td>\n",
       "      <td>Black</td>\n",
       "    </tr>\n",
       "    <tr>\n",
       "      <th>3</th>\n",
       "      <td>A680969</td>\n",
       "      <td>*Zeus</td>\n",
       "      <td>08/05/2014 04:59:00 PM</td>\n",
       "      <td>08/05/2014 04:59:00 PM</td>\n",
       "      <td>06/03/2014</td>\n",
       "      <td>Adoption</td>\n",
       "      <td>NaN</td>\n",
       "      <td>Cat</td>\n",
       "      <td>Neutered Male</td>\n",
       "      <td>2 months</td>\n",
       "      <td>Domestic Shorthair Mix</td>\n",
       "      <td>White/Orange Tabby</td>\n",
       "    </tr>\n",
       "    <tr>\n",
       "      <th>4</th>\n",
       "      <td>A684617</td>\n",
       "      <td>NaN</td>\n",
       "      <td>07/27/2014 09:00:00 AM</td>\n",
       "      <td>07/27/2014 09:00:00 AM</td>\n",
       "      <td>07/26/2012</td>\n",
       "      <td>Transfer</td>\n",
       "      <td>SCRP</td>\n",
       "      <td>Cat</td>\n",
       "      <td>Intact Female</td>\n",
       "      <td>2 years</td>\n",
       "      <td>Domestic Shorthair Mix</td>\n",
       "      <td>Black</td>\n",
       "    </tr>\n",
       "  </tbody>\n",
       "</table>\n",
       "</div>"
      ],
      "text/plain": [
       "  Animal ID        Name                DateTime               MonthYear  \\\n",
       "0   A720371       Moose  02/13/2016 05:59:00 PM  02/13/2016 05:59:00 PM   \n",
       "1   A674754         NaN  03/18/2014 11:47:00 AM  03/18/2014 11:47:00 AM   \n",
       "2   A689724  *Donatello  10/18/2014 06:52:00 PM  10/18/2014 06:52:00 PM   \n",
       "3   A680969       *Zeus  08/05/2014 04:59:00 PM  08/05/2014 04:59:00 PM   \n",
       "4   A684617         NaN  07/27/2014 09:00:00 AM  07/27/2014 09:00:00 AM   \n",
       "\n",
       "  Date of Birth Outcome Type Outcome Subtype Animal Type Sex upon Outcome  \\\n",
       "0    10/08/2015     Adoption             NaN         Dog    Neutered Male   \n",
       "1    03/12/2014     Transfer         Partner         Cat      Intact Male   \n",
       "2    08/01/2014     Adoption             NaN         Cat    Neutered Male   \n",
       "3    06/03/2014     Adoption             NaN         Cat    Neutered Male   \n",
       "4    07/26/2012     Transfer            SCRP         Cat    Intact Female   \n",
       "\n",
       "  Age upon Outcome                               Breed               Color  \n",
       "0         4 months  Anatol Shepherd/Labrador Retriever                Buff  \n",
       "1           6 days              Domestic Shorthair Mix        Orange Tabby  \n",
       "2         2 months              Domestic Shorthair Mix               Black  \n",
       "3         2 months              Domestic Shorthair Mix  White/Orange Tabby  \n",
       "4          2 years              Domestic Shorthair Mix               Black  "
      ]
     },
     "execution_count": 63,
     "metadata": {},
     "output_type": "execute_result"
    }
   ],
   "source": [
    "df2 = pd.read_csv('Austin_Animal_Center_Outcomes.csv')\n",
    "df2.head()"
   ]
  },
  {
   "cell_type": "code",
   "execution_count": 64,
   "metadata": {},
   "outputs": [
    {
     "data": {
      "text/plain": [
       "(110753, 12)"
      ]
     },
     "execution_count": 64,
     "metadata": {},
     "output_type": "execute_result"
    }
   ],
   "source": [
    "#get a general idea about the dataset\n",
    "df2.shape"
   ]
  },
  {
   "cell_type": "code",
   "execution_count": 65,
   "metadata": {},
   "outputs": [
    {
     "data": {
      "text/plain": [
       "array(['Animal ID', 'Name', 'DateTime', 'MonthYear', 'Date of Birth',\n",
       "       'Outcome Type', 'Outcome Subtype', 'Animal Type',\n",
       "       'Sex upon Outcome', 'Age upon Outcome', 'Breed', 'Color'],\n",
       "      dtype=object)"
      ]
     },
     "execution_count": 65,
     "metadata": {},
     "output_type": "execute_result"
    }
   ],
   "source": [
    "#we want to look at the column names to see what information is included\n",
    "df2.columns.values"
   ]
  },
  {
   "cell_type": "code",
   "execution_count": 66,
   "metadata": {},
   "outputs": [],
   "source": [
    "#instead of dropping null names, we want to replace those with \"No Name\"\n",
    "df2['Name'].fillna('No Name', inplace=True)"
   ]
  },
  {
   "cell_type": "code",
   "execution_count": 67,
   "metadata": {},
   "outputs": [],
   "source": [
    "#we only want to look at data for dogs and cats\n",
    "df2_dogs = df2[df2['Animal Type'] == 'Dog']\n",
    "df2_cats = df2[df2['Animal Type'] == 'Cat']\n",
    "df2_dogncat = pd.concat([df2_dogs, df2_cats])"
   ]
  },
  {
   "cell_type": "code",
   "execution_count": 68,
   "metadata": {},
   "outputs": [
    {
     "data": {
      "text/plain": [
       "Adoption           47731\n",
       "Transfer           32313\n",
       "Return to Owner    19537\n",
       "Euthanasia          3436\n",
       "Died                 843\n",
       "Rto-Adopt            500\n",
       "Missing               63\n",
       "Disposal              60\n",
       "Name: Outcome Type, dtype: int64"
      ]
     },
     "execution_count": 68,
     "metadata": {},
     "output_type": "execute_result"
    }
   ],
   "source": [
    "# we care about only certain outcome types, so let's check what kinds of outcomes there are\n",
    "df2_dogncat['Outcome Type'].value_counts()"
   ]
  },
  {
   "cell_type": "code",
   "execution_count": 69,
   "metadata": {},
   "outputs": [],
   "source": [
    "# amoung all the different outcomes, we want to look at those getting adopted, transferred , or euthanized\n",
    "df2_adopted = df2_dogncat[df2_dogncat['Outcome Type'] == 'Adoption']\n",
    "df2_transfered = df2_dogncat[df2_dogncat['Outcome Type'] == 'Transfer']\n",
    "df2_euthanized = df2_dogncat[df2_dogncat['Outcome Type'] == 'Euthanasia']"
   ]
  },
  {
   "cell_type": "code",
   "execution_count": 70,
   "metadata": {},
   "outputs": [
    {
     "data": {
      "text/html": [
       "<div>\n",
       "<style scoped>\n",
       "    .dataframe tbody tr th:only-of-type {\n",
       "        vertical-align: middle;\n",
       "    }\n",
       "\n",
       "    .dataframe tbody tr th {\n",
       "        vertical-align: top;\n",
       "    }\n",
       "\n",
       "    .dataframe thead th {\n",
       "        text-align: right;\n",
       "    }\n",
       "</style>\n",
       "<table border=\"1\" class=\"dataframe\">\n",
       "  <thead>\n",
       "    <tr style=\"text-align: right;\">\n",
       "      <th></th>\n",
       "      <th>Animal ID</th>\n",
       "      <th>Name</th>\n",
       "      <th>DateTime</th>\n",
       "      <th>MonthYear</th>\n",
       "      <th>Date of Birth</th>\n",
       "      <th>Outcome Type</th>\n",
       "      <th>Outcome Subtype</th>\n",
       "      <th>Animal Type</th>\n",
       "      <th>Sex upon Outcome</th>\n",
       "      <th>Age upon Outcome</th>\n",
       "      <th>Breed</th>\n",
       "      <th>Color</th>\n",
       "    </tr>\n",
       "  </thead>\n",
       "  <tbody>\n",
       "    <tr>\n",
       "      <th>0</th>\n",
       "      <td>A720371</td>\n",
       "      <td>Moose</td>\n",
       "      <td>02/13/2016 05:59:00 PM</td>\n",
       "      <td>02/13/2016 05:59:00 PM</td>\n",
       "      <td>10/08/2015</td>\n",
       "      <td>Adoption</td>\n",
       "      <td>NaN</td>\n",
       "      <td>Dog</td>\n",
       "      <td>Neutered Male</td>\n",
       "      <td>4 months</td>\n",
       "      <td>Anatol Shepherd/Labrador Retriever</td>\n",
       "      <td>Buff</td>\n",
       "    </tr>\n",
       "    <tr>\n",
       "      <th>12</th>\n",
       "      <td>A725530</td>\n",
       "      <td>King</td>\n",
       "      <td>06/09/2016 02:50:00 PM</td>\n",
       "      <td>06/09/2016 02:50:00 PM</td>\n",
       "      <td>10/30/2015</td>\n",
       "      <td>Adoption</td>\n",
       "      <td>NaN</td>\n",
       "      <td>Dog</td>\n",
       "      <td>Neutered Male</td>\n",
       "      <td>7 months</td>\n",
       "      <td>Pit Bull Mix</td>\n",
       "      <td>Brown Brindle/White</td>\n",
       "    </tr>\n",
       "    <tr>\n",
       "      <th>16</th>\n",
       "      <td>A738919</td>\n",
       "      <td>Milo</td>\n",
       "      <td>11/27/2016 05:35:00 PM</td>\n",
       "      <td>11/27/2016 05:35:00 PM</td>\n",
       "      <td>09/23/2016</td>\n",
       "      <td>Adoption</td>\n",
       "      <td>NaN</td>\n",
       "      <td>Dog</td>\n",
       "      <td>Neutered Male</td>\n",
       "      <td>2 months</td>\n",
       "      <td>Black Mouth Cur Mix</td>\n",
       "      <td>Brown/Black</td>\n",
       "    </tr>\n",
       "    <tr>\n",
       "      <th>19</th>\n",
       "      <td>A665383</td>\n",
       "      <td>Indica</td>\n",
       "      <td>10/30/2013 04:23:00 PM</td>\n",
       "      <td>10/30/2013 04:23:00 PM</td>\n",
       "      <td>06/19/2013</td>\n",
       "      <td>Adoption</td>\n",
       "      <td>NaN</td>\n",
       "      <td>Dog</td>\n",
       "      <td>Spayed Female</td>\n",
       "      <td>4 months</td>\n",
       "      <td>German Shepherd Mix</td>\n",
       "      <td>Black/Tan</td>\n",
       "    </tr>\n",
       "    <tr>\n",
       "      <th>22</th>\n",
       "      <td>A689228</td>\n",
       "      <td>Louie</td>\n",
       "      <td>12/05/2014 03:55:00 PM</td>\n",
       "      <td>12/05/2014 03:55:00 PM</td>\n",
       "      <td>06/01/2014</td>\n",
       "      <td>Adoption</td>\n",
       "      <td>NaN</td>\n",
       "      <td>Dog</td>\n",
       "      <td>Neutered Male</td>\n",
       "      <td>6 months</td>\n",
       "      <td>Dachshund/Chihuahua Shorthair</td>\n",
       "      <td>Sable/Tan</td>\n",
       "    </tr>\n",
       "  </tbody>\n",
       "</table>\n",
       "</div>"
      ],
      "text/plain": [
       "   Animal ID    Name                DateTime               MonthYear  \\\n",
       "0    A720371   Moose  02/13/2016 05:59:00 PM  02/13/2016 05:59:00 PM   \n",
       "12   A725530    King  06/09/2016 02:50:00 PM  06/09/2016 02:50:00 PM   \n",
       "16   A738919    Milo  11/27/2016 05:35:00 PM  11/27/2016 05:35:00 PM   \n",
       "19   A665383  Indica  10/30/2013 04:23:00 PM  10/30/2013 04:23:00 PM   \n",
       "22   A689228   Louie  12/05/2014 03:55:00 PM  12/05/2014 03:55:00 PM   \n",
       "\n",
       "   Date of Birth Outcome Type Outcome Subtype Animal Type Sex upon Outcome  \\\n",
       "0     10/08/2015     Adoption             NaN         Dog    Neutered Male   \n",
       "12    10/30/2015     Adoption             NaN         Dog    Neutered Male   \n",
       "16    09/23/2016     Adoption             NaN         Dog    Neutered Male   \n",
       "19    06/19/2013     Adoption             NaN         Dog    Spayed Female   \n",
       "22    06/01/2014     Adoption             NaN         Dog    Neutered Male   \n",
       "\n",
       "   Age upon Outcome                               Breed                Color  \n",
       "0          4 months  Anatol Shepherd/Labrador Retriever                 Buff  \n",
       "12         7 months                        Pit Bull Mix  Brown Brindle/White  \n",
       "16         2 months                 Black Mouth Cur Mix          Brown/Black  \n",
       "19         4 months                 German Shepherd Mix            Black/Tan  \n",
       "22         6 months       Dachshund/Chihuahua Shorthair            Sable/Tan  "
      ]
     },
     "execution_count": 70,
     "metadata": {},
     "output_type": "execute_result"
    }
   ],
   "source": [
    "# concat to get the filtered dataset\n",
    "df2=pd.concat([df2_adopted,df2_transfered,df2_euthanized])\n",
    "df2.head()"
   ]
  },
  {
   "cell_type": "code",
   "execution_count": 71,
   "metadata": {},
   "outputs": [
    {
     "data": {
      "text/html": [
       "<div>\n",
       "<style scoped>\n",
       "    .dataframe tbody tr th:only-of-type {\n",
       "        vertical-align: middle;\n",
       "    }\n",
       "\n",
       "    .dataframe tbody tr th {\n",
       "        vertical-align: top;\n",
       "    }\n",
       "\n",
       "    .dataframe thead th {\n",
       "        text-align: right;\n",
       "    }\n",
       "</style>\n",
       "<table border=\"1\" class=\"dataframe\">\n",
       "  <thead>\n",
       "    <tr style=\"text-align: right;\">\n",
       "      <th></th>\n",
       "      <th>Animal ID</th>\n",
       "      <th>Name</th>\n",
       "      <th>Outcome Type</th>\n",
       "      <th>Animal Type</th>\n",
       "      <th>Sex upon Outcome</th>\n",
       "      <th>Age upon Outcome</th>\n",
       "      <th>Breed</th>\n",
       "      <th>Color</th>\n",
       "    </tr>\n",
       "  </thead>\n",
       "  <tbody>\n",
       "    <tr>\n",
       "      <th>0</th>\n",
       "      <td>A720371</td>\n",
       "      <td>Moose</td>\n",
       "      <td>Adoption</td>\n",
       "      <td>Dog</td>\n",
       "      <td>Neutered Male</td>\n",
       "      <td>4 months</td>\n",
       "      <td>Anatol Shepherd/Labrador Retriever</td>\n",
       "      <td>Buff</td>\n",
       "    </tr>\n",
       "    <tr>\n",
       "      <th>12</th>\n",
       "      <td>A725530</td>\n",
       "      <td>King</td>\n",
       "      <td>Adoption</td>\n",
       "      <td>Dog</td>\n",
       "      <td>Neutered Male</td>\n",
       "      <td>7 months</td>\n",
       "      <td>Pit Bull Mix</td>\n",
       "      <td>Brown Brindle/White</td>\n",
       "    </tr>\n",
       "    <tr>\n",
       "      <th>16</th>\n",
       "      <td>A738919</td>\n",
       "      <td>Milo</td>\n",
       "      <td>Adoption</td>\n",
       "      <td>Dog</td>\n",
       "      <td>Neutered Male</td>\n",
       "      <td>2 months</td>\n",
       "      <td>Black Mouth Cur Mix</td>\n",
       "      <td>Brown/Black</td>\n",
       "    </tr>\n",
       "    <tr>\n",
       "      <th>19</th>\n",
       "      <td>A665383</td>\n",
       "      <td>Indica</td>\n",
       "      <td>Adoption</td>\n",
       "      <td>Dog</td>\n",
       "      <td>Spayed Female</td>\n",
       "      <td>4 months</td>\n",
       "      <td>German Shepherd Mix</td>\n",
       "      <td>Black/Tan</td>\n",
       "    </tr>\n",
       "    <tr>\n",
       "      <th>22</th>\n",
       "      <td>A689228</td>\n",
       "      <td>Louie</td>\n",
       "      <td>Adoption</td>\n",
       "      <td>Dog</td>\n",
       "      <td>Neutered Male</td>\n",
       "      <td>6 months</td>\n",
       "      <td>Dachshund/Chihuahua Shorthair</td>\n",
       "      <td>Sable/Tan</td>\n",
       "    </tr>\n",
       "  </tbody>\n",
       "</table>\n",
       "</div>"
      ],
      "text/plain": [
       "   Animal ID    Name Outcome Type Animal Type Sex upon Outcome  \\\n",
       "0    A720371   Moose     Adoption         Dog    Neutered Male   \n",
       "12   A725530    King     Adoption         Dog    Neutered Male   \n",
       "16   A738919    Milo     Adoption         Dog    Neutered Male   \n",
       "19   A665383  Indica     Adoption         Dog    Spayed Female   \n",
       "22   A689228   Louie     Adoption         Dog    Neutered Male   \n",
       "\n",
       "   Age upon Outcome                               Breed                Color  \n",
       "0          4 months  Anatol Shepherd/Labrador Retriever                 Buff  \n",
       "12         7 months                        Pit Bull Mix  Brown Brindle/White  \n",
       "16         2 months                 Black Mouth Cur Mix          Brown/Black  \n",
       "19         4 months                 German Shepherd Mix            Black/Tan  \n",
       "22         6 months       Dachshund/Chihuahua Shorthair            Sable/Tan  "
      ]
     },
     "execution_count": 71,
     "metadata": {},
     "output_type": "execute_result"
    }
   ],
   "source": [
    "#drop all values that we do not need, now it should be a cleaned dataset\n",
    "df2.drop(['DateTime','MonthYear','Date of Birth','Outcome Subtype'], axis=1, inplace=True)\n",
    "df2.head()"
   ]
  },
  {
   "cell_type": "markdown",
   "metadata": {},
   "source": [
    "<h2> Hypothesis: dogs and catts with names are more likely to be adopted"
   ]
  },
  {
   "cell_type": "code",
   "execution_count": 72,
   "metadata": {},
   "outputs": [
    {
     "data": {
      "text/plain": [
       "(83480, 8)"
      ]
     },
     "execution_count": 72,
     "metadata": {},
     "output_type": "execute_result"
    }
   ],
   "source": [
    "df2.shape"
   ]
  },
  {
   "cell_type": "code",
   "execution_count": 73,
   "metadata": {},
   "outputs": [
    {
     "data": {
      "text/plain": [
       "No Name        28184\n",
       "Bella            290\n",
       "Luna             290\n",
       "Max              279\n",
       "Daisy            228\n",
       "               ...  \n",
       "*Pearlman          1\n",
       "*Marco Polo        1\n",
       "Dobi               1\n",
       "*Opie Lulu         1\n",
       "Castiel            1\n",
       "Name: Name, Length: 15113, dtype: int64"
      ]
     },
     "execution_count": 73,
     "metadata": {},
     "output_type": "execute_result"
    }
   ],
   "source": [
    "df2['Name'].value_counts()"
   ]
  },
  {
   "cell_type": "code",
   "execution_count": 74,
   "metadata": {},
   "outputs": [
    {
     "data": {
      "text/plain": [
       "(47731, 12)"
      ]
     },
     "execution_count": 74,
     "metadata": {},
     "output_type": "execute_result"
    }
   ],
   "source": [
    "df2_adopted.shape"
   ]
  },
  {
   "cell_type": "code",
   "execution_count": 75,
   "metadata": {},
   "outputs": [
    {
     "data": {
      "text/plain": [
       "No Name         8794\n",
       "Luna             243\n",
       "Bella            219\n",
       "Max              213\n",
       "Daisy            169\n",
       "                ... \n",
       "Flynn Ryder        1\n",
       "Segny              1\n",
       "*Sadie Grace       1\n",
       "*Velcro            1\n",
       "*Beachball         1\n",
       "Name: Name, Length: 11818, dtype: int64"
      ]
     },
     "execution_count": 75,
     "metadata": {},
     "output_type": "execute_result"
    }
   ],
   "source": [
    "df2_adopted['Name'].value_counts()"
   ]
  },
  {
   "cell_type": "code",
   "execution_count": 76,
   "metadata": {},
   "outputs": [
    {
     "name": "stdout",
     "output_type": "stream",
     "text": [
      "Percentage No Name Total:  0.337613799712506 \n",
      "Percentage No Name Adopted: 0.18424084976220906\n"
     ]
    }
   ],
   "source": [
    "#look at the dataset with combined outcome types of adopted, transerfed and euthanized\n",
    "num_total=df2.shape[0]\n",
    "num_total_noname=df2['Name'].value_counts()[0]\n",
    "ratio_total_noname=num_total_noname/num_total\n",
    "\n",
    "#look at the dateset with only adopted dogs and cats\n",
    "num_adopted=df2_adopted.shape[0]\n",
    "num_adopted_noname=df2_adopted['Name'].value_counts()[0]\n",
    "ratio_adopted_noname=num_adopted_noname/num_adopted\n",
    "\n",
    "print('Percentage No Name Total: ', ratio_total_noname, '\\nPercentage No Name Adopted:', ratio_adopted_noname)"
   ]
  },
  {
   "cell_type": "code",
   "execution_count": 77,
   "metadata": {},
   "outputs": [
    {
     "name": "stdout",
     "output_type": "stream",
     "text": [
      "0.45428519237336035\n"
     ]
    }
   ],
   "source": [
    "percent_diff=(ratio_total_noname-ratio_adopted_noname)/ratio_total_noname\n",
    "print(percent_diff)"
   ]
  },
  {
   "cell_type": "markdown",
   "metadata": {},
   "source": [
    "Not surprising at all, we can see that there is a very significant difference (about 45.4% ) for the no name ratio when comparing the combined outcomes (adopted, transfered and euthanized) and only the adopted outcome. The adopted animals has a much smaller rate for not having a name."
   ]
  },
  {
   "cell_type": "markdown",
   "metadata": {},
   "source": [
    "<h1> Data Analysis and Results"
   ]
  },
  {
   "cell_type": "markdown",
   "metadata": {},
   "source": [
    "First, we import needed statistical libraries: patsy and stats models"
   ]
  },
  {
   "cell_type": "code",
   "execution_count": 78,
   "metadata": {},
   "outputs": [],
   "source": [
    "import patsy\n",
    "import statsmodels.api as sm"
   ]
  },
  {
   "cell_type": "markdown",
   "metadata": {},
   "source": [
    "Rename columns to remove whitespaces.  We do it to use them in patsy R-like formulas"
   ]
  },
  {
   "cell_type": "code",
   "execution_count": 79,
   "metadata": {},
   "outputs": [],
   "source": [
    "df_dogs_renamed = df_dogs.rename(columns={'Time in Shelter (days)': \"days_in_shelter\", \"Outcome Age Group\": \"age\", \"Color\": \"color\", \"Sex Upon Outcome\": \"sex\"})\n",
    "df_cats_renamed = df_cats.rename(columns={'Time in Shelter (days)': \"days_in_shelter\", \"Outcome Age Group\": \"age\", \"Color\": \"color\", \"Sex Upon Outcome\": \"sex\"})"
   ]
  },
  {
   "cell_type": "code",
   "execution_count": 80,
   "metadata": {},
   "outputs": [
    {
     "name": "stdout",
     "output_type": "stream",
     "text": [
      "                            OLS Regression Results                            \n",
      "==============================================================================\n",
      "Dep. Variable:        days_in_shelter   R-squared:                       0.046\n",
      "Model:                            OLS   Adj. R-squared:                  0.045\n",
      "Method:                 Least Squares   F-statistic:                     48.74\n",
      "Date:                Sun, 22 Dec 2019   Prob (F-statistic):          4.73e-189\n",
      "Time:                        18:29:07   Log-Likelihood:            -1.0736e+05\n",
      "No. Observations:               20467   AIC:                         2.148e+05\n",
      "Df Residuals:                   20446   BIC:                         2.149e+05\n",
      "Df Model:                          20                                         \n",
      "Covariance Type:            nonrobust                                         \n",
      "========================================================================================\n",
      "                           coef    std err          t      P>|t|      [0.025      0.975]\n",
      "----------------------------------------------------------------------------------------\n",
      "Intercept                6.9172      2.784      2.484      0.013       1.460      12.374\n",
      "age[T.(10.0, 12.5]]     31.0932      3.548      8.763      0.000      24.138      38.048\n",
      "age[T.(12.5, 15.0]]     47.5670      5.808      8.190      0.000      36.183      58.951\n",
      "age[T.(15.0, 17.5]]     63.4101     18.761      3.380      0.001      26.637     100.183\n",
      "age[T.(17.5, 20.0]]    -12.2757     45.953     -0.267      0.789    -102.347      77.796\n",
      "age[T.(2.5, 5.0]]       16.5838      0.917     18.093      0.000      14.787      18.380\n",
      "age[T.(5.0, 7.5]]       21.1648      1.666     12.706      0.000      17.900      24.430\n",
      "age[T.(7.5, 10.0]]      30.1847      1.722     17.532      0.000      26.810      33.559\n",
      "color[T.Blue]           11.4652      1.540      7.446      0.000       8.447      14.483\n",
      "color[T.Brown]           4.2541      0.828      5.136      0.000       2.630       5.878\n",
      "color[T.Gold]           -7.1708      7.376     -0.972      0.331     -21.629       7.288\n",
      "color[T.Gray]          -11.0884      3.140     -3.531      0.000     -17.243      -4.934\n",
      "color[T.Red]             1.6239      1.542      1.053      0.292      -1.399       4.646\n",
      "color[T.Silver]        -21.2143     18.760     -1.131      0.258     -57.986      15.558\n",
      "color[T.Tan]            -1.8231      1.504     -1.212      0.225      -4.770       1.124\n",
      "color[T.Tricolor]       -6.7603      1.516     -4.460      0.000      -9.731      -3.789\n",
      "color[T.White]          -0.2564      0.994     -0.258      0.797      -2.205       1.692\n",
      "color[T.Yellow]         -7.1820      2.318     -3.099      0.002     -11.725      -2.639\n",
      "sex[T.Intact Male]       0.8204      3.927      0.209      0.835      -6.877       8.518\n",
      "sex[T.Neutered Male]    11.4107      2.783      4.100      0.000       5.956      16.865\n",
      "sex[T.Spayed Female]    11.2634      2.784      4.045      0.000       5.806      16.721\n",
      "==============================================================================\n",
      "Omnibus:                    20334.676   Durbin-Watson:                   1.829\n",
      "Prob(Omnibus):                  0.000   Jarque-Bera (JB):          1118484.354\n",
      "Skew:                           4.942   Prob(JB):                         0.00\n",
      "Kurtosis:                      37.840   Cond. No.                         182.\n",
      "==============================================================================\n",
      "\n",
      "Warnings:\n",
      "[1] Standard Errors assume that the covariance matrix of the errors is correctly specified.\n",
      "[1.29817307e-02 2.04776070e-18 2.76082758e-16 7.26480693e-04\n",
      " 7.89367944e-01 1.33503817e-72 7.54773510e-37 2.56777985e-68\n",
      " 1.00121746e-13 2.83748281e-07 3.31004663e-01 4.14145564e-04\n",
      " 2.92300640e-01 2.58153544e-01 2.25337666e-01 8.22790523e-06\n",
      " 7.96502427e-01 1.94489022e-03 8.34525098e-01 4.14001499e-05\n",
      " 5.24821742e-05]\n"
     ]
    }
   ],
   "source": [
    "outcome_1, predictors_1 = patsy.dmatrices('days_in_shelter ~ age + color + sex', data=df_dogs_renamed)\n",
    "mod_1 = sm.OLS(outcome_1, predictors_1)\n",
    "res_1 = mod_1.fit() \n",
    "print(res_1.summary())\n",
    "print(res_1.pvalues)"
   ]
  },
  {
   "cell_type": "code",
   "execution_count": 81,
   "metadata": {},
   "outputs": [
    {
     "name": "stdout",
     "output_type": "stream",
     "text": [
      "                            OLS Regression Results                            \n",
      "==============================================================================\n",
      "Dep. Variable:        days_in_shelter   R-squared:                       0.037\n",
      "Model:                            OLS   Adj. R-squared:                  0.037\n",
      "Method:                 Least Squares   F-statistic:                     112.7\n",
      "Date:                Sun, 22 Dec 2019   Prob (F-statistic):          7.97e-163\n",
      "Time:                        18:29:17   Log-Likelihood:            -1.0745e+05\n",
      "No. Observations:               20467   AIC:                         2.149e+05\n",
      "Df Residuals:                   20459   BIC:                         2.150e+05\n",
      "Df Model:                           7                                         \n",
      "Covariance Type:            nonrobust                                         \n",
      "=======================================================================================\n",
      "                          coef    std err          t      P>|t|      [0.025      0.975]\n",
      "---------------------------------------------------------------------------------------\n",
      "Intercept              18.9875      0.368     51.548      0.000      18.266      19.710\n",
      "age[T.(10.0, 12.5]]    29.1816      3.556      8.206      0.000      22.211      36.152\n",
      "age[T.(12.5, 15.0]]    45.2786      5.822      7.777      0.000      33.867      56.690\n",
      "age[T.(15.0, 17.5]]    61.2988     18.831      3.255      0.001      24.389      98.209\n",
      "age[T.(17.5, 20.0]]   -14.9056     46.118     -0.323      0.747    -105.301      75.490\n",
      "age[T.(2.5, 5.0]]      16.6832      0.919     18.163      0.000      14.883      18.484\n",
      "age[T.(5.0, 7.5]]      21.1498      1.671     12.660      0.000      17.875      24.424\n",
      "age[T.(7.5, 10.0]]     29.4521      1.727     17.053      0.000      26.067      32.837\n",
      "==============================================================================\n",
      "Omnibus:                    20341.168   Durbin-Watson:                   1.828\n",
      "Prob(Omnibus):                  0.000   Jarque-Bera (JB):          1111122.004\n",
      "Skew:                           4.948   Prob(JB):                         0.00\n",
      "Kurtosis:                      37.713   Cond. No.                         145.\n",
      "==============================================================================\n",
      "\n",
      "Warnings:\n",
      "[1] Standard Errors assume that the covariance matrix of the errors is correctly specified.\n",
      "[0.00000000e+00 2.42095572e-16 7.75595246e-15 1.13478937e-03\n",
      " 7.46545078e-01 3.78407508e-73 1.34861922e-36 9.26895224e-65]\n"
     ]
    }
   ],
   "source": [
    "outcome_2, predictors_2 = patsy.dmatrices('days_in_shelter ~ age', data=df_dogs_renamed)\n",
    "mod_2 = sm.OLS(outcome_2, predictors_2)\n",
    "res_2 = mod_2.fit() \n",
    "print(res_2.summary())\n",
    "print(res_2.pvalues)"
   ]
  },
  {
   "cell_type": "code",
   "execution_count": 82,
   "metadata": {},
   "outputs": [
    {
     "name": "stdout",
     "output_type": "stream",
     "text": [
      "                            OLS Regression Results                            \n",
      "==============================================================================\n",
      "Dep. Variable:        days_in_shelter   R-squared:                       0.006\n",
      "Model:                            OLS   Adj. R-squared:                  0.006\n",
      "Method:                 Least Squares   F-statistic:                     12.56\n",
      "Date:                Sun, 22 Dec 2019   Prob (F-statistic):           4.44e-22\n",
      "Time:                        18:29:25   Log-Likelihood:            -1.0777e+05\n",
      "No. Observations:               20467   AIC:                         2.156e+05\n",
      "Df Residuals:                   20456   BIC:                         2.157e+05\n",
      "Df Model:                          10                                         \n",
      "Covariance Type:            nonrobust                                         \n",
      "=====================================================================================\n",
      "                        coef    std err          t      P>|t|      [0.025      0.975]\n",
      "-------------------------------------------------------------------------------------\n",
      "Intercept            22.5177      0.549     41.051      0.000      21.443      23.593\n",
      "color[T.Blue]        11.1289      1.570      7.090      0.000       8.052      14.206\n",
      "color[T.Brown]        4.3248      0.845      5.119      0.000       2.669       5.981\n",
      "color[T.Gold]        -7.3319      7.523     -0.975      0.330     -22.078       7.414\n",
      "color[T.Gray]        -7.0672      3.199     -2.209      0.027     -13.338      -0.796\n",
      "color[T.Red]          2.7351      1.572      1.739      0.082      -0.347       5.817\n",
      "color[T.Silver]     -17.7075     19.137     -0.925      0.355     -55.218      19.803\n",
      "color[T.Tan]         -1.8166      1.533     -1.185      0.236      -4.821       1.188\n",
      "color[T.Tricolor]    -6.4825      1.546     -4.193      0.000      -9.513      -3.452\n",
      "color[T.White]        0.2397      1.014      0.236      0.813      -1.747       2.226\n",
      "color[T.Yellow]      -5.0310      2.362     -2.130      0.033      -9.661      -0.401\n",
      "==============================================================================\n",
      "Omnibus:                    20865.512   Durbin-Watson:                   1.809\n",
      "Prob(Omnibus):                  0.000   Jarque-Bera (JB):          1213829.081\n",
      "Skew:                           5.143   Prob(JB):                         0.00\n",
      "Kurtosis:                      39.298   Cond. No.                         61.6\n",
      "==============================================================================\n",
      "\n",
      "Warnings:\n",
      "[1] Standard Errors assume that the covariance matrix of the errors is correctly specified.\n",
      "[0.00000000e+00 1.38766839e-12 3.10197877e-07 3.29785001e-01\n",
      " 2.71881458e-02 8.19765526e-02 3.54826347e-01 2.35931000e-01\n",
      " 2.76212074e-05 8.13096987e-01 3.31808774e-02]\n"
     ]
    }
   ],
   "source": [
    "outcome_3, predictors_3 = patsy.dmatrices('days_in_shelter ~ color', data=df_dogs_renamed)\n",
    "mod_3 = sm.OLS(outcome_3, predictors_3)\n",
    "res_3 = mod_3.fit()\n",
    "print(res_3.summary())\n",
    "print(res_3.pvalues)\n"
   ]
  },
  {
   "cell_type": "code",
   "execution_count": 83,
   "metadata": {},
   "outputs": [
    {
     "name": "stdout",
     "output_type": "stream",
     "text": [
      "                            OLS Regression Results                            \n",
      "==============================================================================\n",
      "Dep. Variable:        days_in_shelter   R-squared:                       0.001\n",
      "Model:                            OLS   Adj. R-squared:                  0.001\n",
      "Method:                 Least Squares   F-statistic:                     8.939\n",
      "Date:                Sun, 22 Dec 2019   Prob (F-statistic):           6.48e-06\n",
      "Time:                        18:29:36   Log-Likelihood:            -1.0782e+05\n",
      "No. Observations:               20467   AIC:                         2.157e+05\n",
      "Df Residuals:                   20463   BIC:                         2.157e+05\n",
      "Df Model:                           3                                         \n",
      "Covariance Type:            nonrobust                                         \n",
      "========================================================================================\n",
      "                           coef    std err          t      P>|t|      [0.025      0.975]\n",
      "----------------------------------------------------------------------------------------\n",
      "Intercept               13.0853      2.802      4.671      0.000       7.594      18.576\n",
      "sex[T.Intact Male]       0.9842      4.014      0.245      0.806      -6.883       8.851\n",
      "sex[T.Neutered Male]    11.1201      2.840      3.916      0.000       5.554      16.686\n",
      "sex[T.Spayed Female]    10.7348      2.842      3.777      0.000       5.165      16.305\n",
      "==============================================================================\n",
      "Omnibus:                    20852.609   Durbin-Watson:                   1.808\n",
      "Prob(Omnibus):                  0.000   Jarque-Bera (JB):          1204672.865\n",
      "Skew:                           5.140   Prob(JB):                         0.00\n",
      "Kurtosis:                      39.151   Cond. No.                         21.6\n",
      "==============================================================================\n",
      "\n",
      "Warnings:\n",
      "[1] Standard Errors assume that the covariance matrix of the errors is correctly specified.\n",
      "[3.01981452e-06 8.06289220e-01 9.03817672e-05 1.58873608e-04]\n"
     ]
    }
   ],
   "source": [
    "outcome_4, predictors_4 = patsy.dmatrices('days_in_shelter ~ sex', data=df_dogs_renamed)\n",
    "mod_4 = sm.OLS(outcome_4, predictors_4)\n",
    "res_4 = mod_4.fit() \n",
    "print(res_4.summary())\n",
    "print(res_4.pvalues)"
   ]
  },
  {
   "cell_type": "markdown",
   "metadata": {},
   "source": [
    "From above, we can see the different correlations beyween the days_in_shelter attribute, which is the main target we are measuring, compared to sex, color, age correlations and p-values. For the first result, there is a display of the OLS Regression Results based on the days in the shelter and all of the attributes that we would like to examine. It is evident that there is in fact a significance between certain attributes based on the P-values. To begin, the attribute of age shows a significance towards the age (17.5 to 20.0). We hypothesized that dogs that were younger would be adopted quicker but that was not the case. In regard to color, based on the p-values it is evident that there is a leniency towards light colored animals such as gold, silver, tan, and white. We hypothesized that lighter colored dogs and cats would be adopted faster and this proved to be correct based on our data. As for sex, to our suprise, there is significance towards Intact Males rather than spayed/neutered. There is an OLS Regression for each of the attributes under the cumulative result."
   ]
  },
  {
   "cell_type": "markdown",
   "metadata": {},
   "source": [
    "<h1> Ethics/Privacy Considerations"
   ]
  },
  {
   "cell_type": "markdown",
   "metadata": {},
   "source": [
    "In regard to ethical and privacy considerations, the information that we used was from a public government website. Therefore, there is no need for direct permission to use the datasets. The information has also been used in a very similiar context and there is no harm in doing so. As for privacy concerns and terms of use, the animals are identified by an ID number and there is no method of finding any personal information regarding the animals or anyone involved. The risk of deanonimization is highly unlikely due to no private information such as addresses. We believe that there are no biases within the data and within our project as the data is from a publicly released and reliable source. Although we took caution, the data is factual and objective and there is little to very minimal biases. The dataset includes all animals that have been in the animal shelter, without regard to their species.\n",
    "\n",
    "Due to the population which is recorded (animals), we did not have any challenges in regard to data privacy. The dataset itself did not include any information that is very private. In the case that the animal was adopted, it did not provide information of the owner in regards to home address or phone number. We had no issues with our dataset and made sure that we were following proper ethical and privacy procedures.\n",
    "\n",
    "A potential consequence is that in the event that this project is published people who read it will only want to adopt young, light-colored dogs/cats. Other types of animals may not be considered \"adoptable\". For example, as of right now, the Gordon setter, Irish water spaniel, are Kerry blue terrier, all dark-colored dog breeds, are in danger of extinction. It would be unfair for any animal to be passed over for adoption because they are not trendy."
   ]
  },
  {
   "cell_type": "markdown",
   "metadata": {},
   "source": [
    "<h1> Conclusion/Discussion\n",
    "    "
   ]
  },
  {
   "cell_type": "markdown",
   "metadata": {},
   "source": [
    "Through our data analysis and cleaning, we were able to investigate whether there were underlyign trends between certain attributes that may entice a person to adopt a specifc dog/cat over another. Due to the popularity of dogs and cats, we chose to limit our analysis to those two types. We predicted that dogs and cats that are one year old, light-colored, and with names have higher rates of adoption in Austin, Texas. Although we made no prediction in regard to which animal gets adopted the most, it is interesting to note that there is no difference in how many dogs and cats are adopted. To begin, we analyzed the stay of the animal to see if age had an impact. Through a box plot, we observed that there is not much of a difference in stay correlated to age. For dogs specifically, the medians are roughly the same for all ages but there is an increase in the upper bound (max) as age increases which does indicate a longer stay for older dogs. For cats, there is no observable correlation between length of stay and age. Instead, it is apparent that as cats get older, they seem to be adopted more quickly. Next, we aimed to figure out whether light colored animals that are fixed are more likely to be adopted faster. In order to figure this out, the colors were standardized due to being alot of variation in colors. It was standardized to Brown, Black, and White. Through the creation of heatmaps, it is evident that as age increases, length of stay increases as well as length of stay is shorter for lighter colors for both dogs and cats. With the name attribute, we used another dataset and find out that when comparing dogs and cats that only get adopted and those also get transfered and euthanized, there is signifinant difference between the ratio of animals with no name. The animals get adopted have a much smaller rate of not having a name.\n",
    "\n",
    "Our hypothesis that dogs and cats that are one year old, light-colored, and with names will have shorter shelter stay times in Austin, Texas can be further proved with exploration of the antithesis - dogs and cats that are over 8 years old, dark-colored, and unnamed will have longer shelter stay times or be euthanized. This specific analysis will not be investigated in depth since the attributes of the antithesis are underlying components in the analysis section.\n",
    "\n",
    "In the background part, we mentioned that we hope our project can help the running of the animal shelter because local news indicate that they are turning healthy animals away due to limited space. Hopefully the analyzed part above about the adopted animals types can provide some insights to them. In terms of giving suggestions to the animal shelter, since they cannot have control on the age, breed or color of the animals, a possible way to raise the possibility for the animals to be adopted is that staffs in the shelter can give animals names, making them more appealing and easier to connect with potential adopters."
   ]
  }
 ],
 "metadata": {
  "kernelspec": {
   "display_name": "Python 3",
   "language": "python",
   "name": "python3"
  },
  "language_info": {
   "codemirror_mode": {
    "name": "ipython",
    "version": 3
   },
   "file_extension": ".py",
   "mimetype": "text/x-python",
   "name": "python",
   "nbconvert_exporter": "python",
   "pygments_lexer": "ipython3",
   "version": "3.7.3"
  }
 },
 "nbformat": 4,
 "nbformat_minor": 2
}
